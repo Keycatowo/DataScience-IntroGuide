{
 "cells": [
  {
   "attachments": {},
   "cell_type": "markdown",
   "metadata": {},
   "source": [
    "# OpenCV"
   ]
  },
  {
   "attachments": {},
   "cell_type": "markdown",
   "metadata": {},
   "source": [
    "## 安裝"
   ]
  },
  {
   "cell_type": "code",
   "execution_count": null,
   "metadata": {},
   "outputs": [],
   "source": [
    "# 若沒有安裝過 OpenCV，請先安裝(取消註解，只需安裝一次)\n",
    "# !pip install opencv-python"
   ]
  },
  {
   "cell_type": "code",
   "execution_count": 2,
   "metadata": {},
   "outputs": [
    {
     "name": "stdout",
     "output_type": "stream",
     "text": [
      "4.8.0\n"
     ]
    }
   ],
   "source": [
    "import cv2\n",
    "print(cv2.__version__)"
   ]
  },
  {
   "attachments": {},
   "cell_type": "markdown",
   "metadata": {},
   "source": [
    "## 讀取與顯示"
   ]
  },
  {
   "cell_type": "code",
   "execution_count": 3,
   "metadata": {},
   "outputs": [
    {
     "data": {
      "text/plain": [
       "-1"
      ]
     },
     "execution_count": 3,
     "metadata": {},
     "output_type": "execute_result"
    }
   ],
   "source": [
    "import cv2\n",
    "\n",
    "# 讀取圖片\n",
    "image = cv2.imread('example.png')\n",
    "\n",
    "# 顯示圖片\n",
    "cv2.imshow('Image', image)\n",
    "\n",
    "# 等待按鍵，並關閉視窗\n",
    "cv2.waitKey(0)\n",
    "cv2.destroyAllWindows()"
   ]
  },
  {
   "cell_type": "code",
   "execution_count": 9,
   "metadata": {},
   "outputs": [
    {
     "data": {
      "text/plain": [
       "(1066, 1600, 3)"
      ]
     },
     "execution_count": 9,
     "metadata": {},
     "output_type": "execute_result"
    }
   ],
   "source": [
    "image.shape"
   ]
  },
  {
   "cell_type": "code",
   "execution_count": 2,
   "metadata": {},
   "outputs": [
    {
     "data": {
      "text/plain": [
       "True"
      ]
     },
     "execution_count": 2,
     "metadata": {},
     "output_type": "execute_result"
    }
   ],
   "source": [
    "import cv2\n",
    "\n",
    "# 讀取圖片\n",
    "image = cv2.imread('example.png')\n",
    "\n",
    "# 儲存圖片\n",
    "cv2.imwrite('output.png', image)"
   ]
  },
  {
   "attachments": {},
   "cell_type": "markdown",
   "metadata": {},
   "source": [
    "## 圖片基本操作"
   ]
  },
  {
   "attachments": {},
   "cell_type": "markdown",
   "metadata": {},
   "source": [
    "### 裁切"
   ]
  },
  {
   "cell_type": "code",
   "execution_count": 16,
   "metadata": {},
   "outputs": [
    {
     "data": {
      "text/plain": [
       "-1"
      ]
     },
     "execution_count": 16,
     "metadata": {},
     "output_type": "execute_result"
    }
   ],
   "source": [
    "# 裁切圖片\n",
    "cropped_image = image[600:900, 500:800]\n",
    "\n",
    "# 顯示原圖和裁切後的圖片\n",
    "cv2.imshow('Original Image', image)\n",
    "cv2.imshow('Cropped Image', cropped_image)\n",
    "\n",
    "# 等待按鍵，並關閉視窗\n",
    "cv2.waitKey(0)\n",
    "cv2.destroyAllWindows()"
   ]
  },
  {
   "attachments": {},
   "cell_type": "markdown",
   "metadata": {},
   "source": [
    "### 縮放"
   ]
  },
  {
   "cell_type": "code",
   "execution_count": 17,
   "metadata": {},
   "outputs": [
    {
     "data": {
      "text/plain": [
       "-1"
      ]
     },
     "execution_count": 17,
     "metadata": {},
     "output_type": "execute_result"
    }
   ],
   "source": [
    "# 縮放圖片\n",
    "scaled_image = cv2.resize(image, (300, 200)) # (寬, 高)\n",
    "\n",
    "# 顯示原圖和縮放後的圖片\n",
    "cv2.imshow('Original Image', image)\n",
    "cv2.imshow('Scaled Image', scaled_image)\n",
    "\n",
    "# 等待按鍵，並關閉視窗\n",
    "cv2.waitKey(0)\n",
    "cv2.destroyAllWindows()"
   ]
  },
  {
   "attachments": {},
   "cell_type": "markdown",
   "metadata": {},
   "source": [
    "### 平移"
   ]
  },
  {
   "cell_type": "code",
   "execution_count": 10,
   "metadata": {},
   "outputs": [],
   "source": [
    "import numpy as np"
   ]
  },
  {
   "cell_type": "code",
   "execution_count": 22,
   "metadata": {},
   "outputs": [
    {
     "data": {
      "text/plain": [
       "-1"
      ]
     },
     "execution_count": 22,
     "metadata": {},
     "output_type": "execute_result"
    }
   ],
   "source": [
    "# 設定平移向量\n",
    "tx = 500\n",
    "ty = 300\n",
    "translation_matrix = np.float32([[1, 0, tx], [0, 1, ty]])\n",
    "\n",
    "# 平移圖片\n",
    "translated_image = cv2.warpAffine(image, translation_matrix, (image.shape[1], image.shape[0]))\n",
    "\n",
    "# 顯示原圖和平移後的圖片\n",
    "cv2.imshow('Original Image', image)\n",
    "cv2.imshow('Translated Image', translated_image)\n",
    "\n",
    "# 等待按鍵，並關閉視窗\n",
    "cv2.waitKey(0)\n",
    "cv2.destroyAllWindows()"
   ]
  },
  {
   "attachments": {},
   "cell_type": "markdown",
   "metadata": {},
   "source": [
    "### 旋轉"
   ]
  },
  {
   "cell_type": "code",
   "execution_count": 21,
   "metadata": {},
   "outputs": [
    {
     "data": {
      "text/plain": [
       "-1"
      ]
     },
     "execution_count": 21,
     "metadata": {},
     "output_type": "execute_result"
    }
   ],
   "source": [
    "# 獲取圖片尺寸\n",
    "(h, w) = image.shape[:2]\n",
    "\n",
    "# 設定旋轉中心和角度\n",
    "center = (w // 2, h // 2)\n",
    "angle = 45\n",
    "\n",
    "# 獲取旋轉矩陣\n",
    "rotation_matrix = cv2.getRotationMatrix2D(center, angle, 1.0) # (中心點, 角度, 縮放比例)\n",
    "\n",
    "# 旋轉圖片\n",
    "rotated_image = cv2.warpAffine(image, rotation_matrix, (w, h)) # (圖片, 旋轉矩陣, 圖片尺寸)\n",
    "\n",
    "# 顯示原圖和旋轉後的圖片\n",
    "cv2.imshow('Original Image', image)\n",
    "cv2.imshow('Rotated Image', rotated_image)\n",
    "\n",
    "# 等待按鍵，並關閉視窗\n",
    "cv2.waitKey(0)\n",
    "cv2.destroyAllWindows()"
   ]
  },
  {
   "attachments": {},
   "cell_type": "markdown",
   "metadata": {},
   "source": [
    "## 影像特徵提取"
   ]
  },
  {
   "attachments": {},
   "cell_type": "markdown",
   "metadata": {},
   "source": [
    "### 色彩直方圖"
   ]
  },
  {
   "cell_type": "code",
   "execution_count": 24,
   "metadata": {},
   "outputs": [],
   "source": [
    "import matplotlib.pyplot as plt"
   ]
  },
  {
   "cell_type": "code",
   "execution_count": 25,
   "metadata": {},
   "outputs": [
    {
     "data": {
      "image/png": "[encoded data removed]",
      "text/plain": [
       "<Figure size 640x480 with 1 Axes>"
      ]
     },
     "metadata": {},
     "output_type": "display_data"
    }
   ],
   "source": [
    "# 轉換為RGB格式\n",
    "image = cv2.cvtColor(image, cv2.COLOR_BGR2RGB)\n",
    "\n",
    "color = ('b','g','r')\n",
    "\n",
    "# 我們現在分別對RGB通道進行計算並繪製直方圖\n",
    "for i,col in enumerate(color):\n",
    "    hist = cv2.calcHist([image],[i],None,[256],[0,256])\n",
    "    plt.plot(hist,color = col)\n",
    "\n",
    "plt.show()\n"
   ]
  },
  {
   "attachments": {},
   "cell_type": "markdown",
   "metadata": {},
   "source": [
    "### 梯度方向圖"
   ]
  },
  {
   "cell_type": "code",
   "execution_count": 29,
   "metadata": {},
   "outputs": [],
   "source": [
    "gray = cv2.imread(\"example.png\", cv2.IMREAD_GRAYSCALE)\n",
    "gray_norm = np.float32(gray)/255.0\n",
    "\n",
    "# 計算梯度\n",
    "gx = cv2.Sobel(gray_norm, cv2.CV_32F, 1, 0, ksize=1)\n",
    "gy = cv2.Sobel(gray_norm, cv2.CV_32F, 0, 1, ksize=1)\n",
    "\n",
    "# 計算梯度大小和方向\n",
    "mag, angle = cv2.cartToPolar(gx, gy, angleInDegrees=True)"
   ]
  },
  {
   "cell_type": "code",
   "execution_count": 31,
   "metadata": {},
   "outputs": [
    {
     "data": {
      "text/plain": [
       "-1"
      ]
     },
     "execution_count": 31,
     "metadata": {},
     "output_type": "execute_result"
    }
   ],
   "source": [
    "# 建立一個空白圖像，用於繪製箭頭\n",
    "h, w = gray.shape\n",
    "arrow_image = np.zeros((h, w, 3), dtype=np.uint8)\n",
    "\n",
    "# 設定箭頭繪製的區域大小\n",
    "cell_size = 10\n",
    "\n",
    "# 繪製箭頭\n",
    "for y in range(0, h, cell_size):\n",
    "    for x in range(0, w, cell_size):\n",
    "        # 獲取梯度大小和方向的平均值\n",
    "        avg_mag = np.mean(mag[y:y+cell_size, x:x+cell_size]) * 50\n",
    "        avg_angle = np.mean(angle[y:y+cell_size, x:x+cell_size])\n",
    "\n",
    "        # 計算箭頭的起點和終點\n",
    "        x1, y1 = x + cell_size // 2, y + cell_size // 2\n",
    "        x2 = int(x1 + avg_mag * np.cos(np.deg2rad(avg_angle)))\n",
    "        y2 = int(y1 + avg_mag * np.sin(np.deg2rad(avg_angle)))\n",
    "\n",
    "        # 繪製箭頭\n",
    "        cv2.arrowedLine(arrow_image, (x1, y1), (x2, y2), (0, 255, 0), 1, tipLength=0.3)\n",
    "\n",
    "# 顯示箭頭圖像\n",
    "cv2.imshow(\"Arrow Image\", arrow_image)\n",
    "cv2.waitKey(0)\n",
    "cv2.destroyAllWindows()"
   ]
  },
  {
   "attachments": {},
   "cell_type": "markdown",
   "metadata": {},
   "source": [
    "## 基本影像處理"
   ]
  },
  {
   "cell_type": "markdown",
   "metadata": {},
   "source": [
    "### 灰階"
   ]
  },
  {
   "cell_type": "code",
   "execution_count": 13,
   "metadata": {},
   "outputs": [
    {
     "data": {
      "text/plain": [
       "-1"
      ]
     },
     "execution_count": 13,
     "metadata": {},
     "output_type": "execute_result"
    }
   ],
   "source": [
    "# 灰階化\n",
    "gray_image = cv2.cvtColor(image, cv2.COLOR_BGR2GRAY)\n",
    "\n",
    "# 顯示原圖和灰階圖像\n",
    "cv2.imshow('Original Image', image)\n",
    "cv2.imshow('Gray Image', gray_image)\n",
    "\n",
    "# 等待按鍵，並關閉視窗\n",
    "cv2.waitKey(0)\n",
    "cv2.destroyAllWindows()"
   ]
  },
  {
   "cell_type": "markdown",
   "metadata": {},
   "source": [
    "### 二值化"
   ]
  },
  {
   "cell_type": "code",
   "execution_count": 37,
   "metadata": {},
   "outputs": [
    {
     "data": {
      "text/plain": [
       "-1"
      ]
     },
     "execution_count": 37,
     "metadata": {},
     "output_type": "execute_result"
    }
   ],
   "source": [
    "# 二值化\n",
    "_, binary_image = cv2.threshold(gray_image, 128, 255, cv2.THRESH_BINARY)\n",
    "\n",
    "# 顯示原圖和二值圖像\n",
    "cv2.imshow('Original Image', image)\n",
    "cv2.imshow('Binary Image', binary_image)\n",
    "\n",
    "# 等待按鍵，並關閉視窗\n",
    "cv2.waitKey(0)\n",
    "cv2.destroyAllWindows()"
   ]
  },
  {
   "cell_type": "markdown",
   "metadata": {},
   "source": [
    "### 平滑"
   ]
  },
  {
   "cell_type": "code",
   "execution_count": 8,
   "metadata": {},
   "outputs": [
    {
     "data": {
      "text/plain": [
       "-1"
      ]
     },
     "execution_count": 8,
     "metadata": {},
     "output_type": "execute_result"
    }
   ],
   "source": [
    "# 平滑\n",
    "smooth_image = cv2.GaussianBlur(image, (49, 49), 0) # 設定平滑的程度，範圍越大越平滑\n",
    "\n",
    "# 顯示原圖和平滑後的圖像\n",
    "cv2.imshow('Original Image', image)\n",
    "cv2.imshow('Smooth Image', smooth_image)\n",
    "\n",
    "# 等待按鍵，並關閉視窗\n",
    "cv2.waitKey(0)\n",
    "cv2.destroyAllWindows()"
   ]
  },
  {
   "cell_type": "markdown",
   "metadata": {},
   "source": [
    "### 銳化"
   ]
  },
  {
   "cell_type": "code",
   "execution_count": 11,
   "metadata": {},
   "outputs": [
    {
     "data": {
      "text/plain": [
       "-1"
      ]
     },
     "execution_count": 11,
     "metadata": {},
     "output_type": "execute_result"
    }
   ],
   "source": [
    "# 定義銳化核\n",
    "sharpen_kernel = np.array([[-1, -1, -1], [-1, 9, -1], [-1, -1, -1]])\n",
    "\n",
    "# 銳化\n",
    "sharpen_image = cv2.filter2D(image, -1, sharpen_kernel)\n",
    "\n",
    "# 顯示原圖和銳化後的圖像\n",
    "cv2.imshow('Original Image', image)\n",
    "cv2.imshow('Sharpen Image', sharpen_image)\n",
    "\n",
    "# 等待按鍵，並關閉視窗\n",
    "cv2.waitKey(0)\n",
    "cv2.destroyAllWindows()"
   ]
  },
  {
   "cell_type": "markdown",
   "metadata": {},
   "source": [
    "### 邊緣檢測"
   ]
  },
  {
   "cell_type": "code",
   "execution_count": 14,
   "metadata": {},
   "outputs": [
    {
     "data": {
      "text/plain": [
       "-1"
      ]
     },
     "execution_count": 14,
     "metadata": {},
     "output_type": "execute_result"
    }
   ],
   "source": [
    "# 邊緣檢測\n",
    "edge_image = cv2.Canny(gray_image, 100, 200)\n",
    "\n",
    "# 顯示原圖和邊緣圖像\n",
    "cv2.imshow('Original Image', image)\n",
    "cv2.imshow('Edge Image', edge_image)\n",
    "\n",
    "# 等待按鍵，並關閉視窗\n",
    "cv2.waitKey(0)\n",
    "cv2.destroyAllWindows()"
   ]
  },
  {
   "attachments": {},
   "cell_type": "markdown",
   "metadata": {},
   "source": []
  }
 ],
 "metadata": {
  "kernelspec": {
   "display_name": "data38",
   "language": "python",
   "name": "python3"
  },
  "language_info": {
   "codemirror_mode": {
    "name": "ipython",
    "version": 3
   },
   "file_extension": ".py",
   "mimetype": "text/x-python",
   "name": "python",
   "nbconvert_exporter": "python",
   "pygments_lexer": "ipython3",
   "version": "3.9.0"
  },
  "orig_nbformat": 4
 },
 "nbformat": 4,
 "nbformat_minor": 2
}
