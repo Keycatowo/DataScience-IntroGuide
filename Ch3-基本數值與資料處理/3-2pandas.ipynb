{
 "cells": [
  {
   "attachments": {},
   "cell_type": "markdown",
   "metadata": {},
   "source": [
    "# Pandas入門"
   ]
  },
  {
   "attachments": {},
   "cell_type": "markdown",
   "metadata": {},
   "source": [
    "## 安裝 pandas 模組"
   ]
  },
  {
   "cell_type": "code",
   "execution_count": 2,
   "metadata": {},
   "outputs": [
    {
     "name": "stdout",
     "output_type": "stream",
     "text": [
      "Collecting pandas\n",
      "  Using cached pandas-2.0.1-cp38-cp38-win_amd64.whl (10.8 MB)\n",
      "Requirement already satisfied: python-dateutil>=2.8.2 in c:\\_code\\miniconda\\envs\\data38\\lib\\site-packages (from pandas) (2.8.2)\n",
      "Collecting pytz>=2020.1 (from pandas)\n",
      "  Using cached pytz-2023.3-py2.py3-none-any.whl (502 kB)\n",
      "Requirement already satisfied: tzdata>=2022.1 in c:\\users\\o-w-o\\appdata\\roaming\\python\\python38\\site-packages (from pandas) (2022.1)\n",
      "Requirement already satisfied: numpy>=1.20.3 in c:\\_code\\miniconda\\envs\\data38\\lib\\site-packages (from pandas) (1.24.3)\n",
      "Requirement already satisfied: six>=1.5 in c:\\_code\\miniconda\\envs\\data38\\lib\\site-packages (from python-dateutil>=2.8.2->pandas) (1.16.0)\n",
      "Installing collected packages: pytz, pandas\n",
      "Successfully installed pandas-2.0.1 pytz-2023.3\n"
     ]
    },
    {
     "name": "stderr",
     "output_type": "stream",
     "text": [
      "ERROR: pip's dependency resolver does not currently take into account all the packages that are installed. This behaviour is the source of the following dependency conflicts.\n",
      "dateparser 1.1.1 requires regex!=2019.02.19,!=2021.8.27,<2022.3.15, which is not installed.\n"
     ]
    }
   ],
   "source": [
    "# 如果沒有安裝pandas 則執行下列指令安裝(移除註解後執行，只需執行一次)\n",
    "# !pip install pandas"
   ]
  },
  {
   "attachments": {},
   "cell_type": "markdown",
   "metadata": {},
   "source": [
    "## Pandas數據結構"
   ]
  },
  {
   "attachments": {},
   "cell_type": "markdown",
   "metadata": {},
   "source": [
    "### Series數據結構"
   ]
  },
  {
   "attachments": {},
   "cell_type": "markdown",
   "metadata": {},
   "source": [
    "#### 建立Series"
   ]
  },
  {
   "cell_type": "code",
   "execution_count": 1,
   "metadata": {},
   "outputs": [
    {
     "data": {
      "text/plain": [
       "0    1\n",
       "1    2\n",
       "2    3\n",
       "3    4\n",
       "4    5\n",
       "dtype: int64"
      ]
     },
     "execution_count": 1,
     "metadata": {},
     "output_type": "execute_result"
    }
   ],
   "source": [
    "# 建立一個包含五個整數的Series\n",
    "# 左邊的0-4是索引，右邊的1-5是值。\n",
    "import pandas as pd\n",
    "\n",
    "data = [1, 2, 3, 4, 5]\n",
    "s = pd.Series(data)\n",
    "s"
   ]
  },
  {
   "attachments": {},
   "cell_type": "markdown",
   "metadata": {},
   "source": [
    "#### Series的索引"
   ]
  },
  {
   "cell_type": "code",
   "execution_count": 2,
   "metadata": {},
   "outputs": [
    {
     "name": "stdout",
     "output_type": "stream",
     "text": [
      "1\n",
      "1    2\n",
      "2    3\n",
      "3    4\n",
      "dtype: int64\n"
     ]
    }
   ],
   "source": [
    "print(s[0])  # 輸出1\n",
    "print(s[1:4])  # 輸出1-3的值"
   ]
  },
  {
   "cell_type": "code",
   "execution_count": 3,
   "metadata": {},
   "outputs": [
    {
     "name": "stdout",
     "output_type": "stream",
     "text": [
      "2    3\n",
      "3    4\n",
      "4    5\n",
      "dtype: int64\n"
     ]
    }
   ],
   "source": [
    "mask = s > 2 # 建立一個布林遮罩\n",
    "print(s[mask])  # 輸出大於2的值"
   ]
  },
  {
   "cell_type": "code",
   "execution_count": 5,
   "metadata": {},
   "outputs": [
    {
     "name": "stdout",
     "output_type": "stream",
     "text": [
      "count    5.000000\n",
      "mean     3.000000\n",
      "std      1.581139\n",
      "min      1.000000\n",
      "25%      2.000000\n",
      "50%      3.000000\n",
      "75%      4.000000\n",
      "max      5.000000\n",
      "dtype: float64 \n",
      "\n",
      "15 \n",
      "\n",
      "0     2\n",
      "1     4\n",
      "2     6\n",
      "3     8\n",
      "4    10\n",
      "dtype: int64\n"
     ]
    }
   ],
   "source": [
    "# 計算Series的基本統計資訊\n",
    "print(s.describe(), '\\n')\n",
    "\n",
    "# 計算Series的和\n",
    "print(s.sum(), '\\n')\n",
    "\n",
    "# 將Series中的數據乘以2\n",
    "print(s * 2)"
   ]
  },
  {
   "attachments": {},
   "cell_type": "markdown",
   "metadata": {},
   "source": [
    "### DataFrame數據結構"
   ]
  },
  {
   "attachments": {},
   "cell_type": "markdown",
   "metadata": {},
   "source": [
    "#### 建立DataFrame"
   ]
  },
  {
   "cell_type": "code",
   "execution_count": 6,
   "metadata": {},
   "outputs": [
    {
     "data": {
      "text/html": [
       "<div>\n",
       "<style scoped>\n",
       "    .dataframe tbody tr th:only-of-type {\n",
       "        vertical-align: middle;\n",
       "    }\n",
       "\n",
       "    .dataframe tbody tr th {\n",
       "        vertical-align: top;\n",
       "    }\n",
       "\n",
       "    .dataframe thead th {\n",
       "        text-align: right;\n",
       "    }\n",
       "</style>\n",
       "<table border=\"1\" class=\"dataframe\">\n",
       "  <thead>\n",
       "    <tr style=\"text-align: right;\">\n",
       "      <th></th>\n",
       "      <th>Name</th>\n",
       "      <th>Age</th>\n",
       "      <th>City</th>\n",
       "    </tr>\n",
       "  </thead>\n",
       "  <tbody>\n",
       "    <tr>\n",
       "      <th>0</th>\n",
       "      <td>Alice</td>\n",
       "      <td>25</td>\n",
       "      <td>New York</td>\n",
       "    </tr>\n",
       "    <tr>\n",
       "      <th>1</th>\n",
       "      <td>Bob</td>\n",
       "      <td>30</td>\n",
       "      <td>San Francisco</td>\n",
       "    </tr>\n",
       "    <tr>\n",
       "      <th>2</th>\n",
       "      <td>Cathy</td>\n",
       "      <td>35</td>\n",
       "      <td>Los Angeles</td>\n",
       "    </tr>\n",
       "  </tbody>\n",
       "</table>\n",
       "</div>"
      ],
      "text/plain": [
       "    Name  Age           City\n",
       "0  Alice   25       New York\n",
       "1    Bob   30  San Francisco\n",
       "2  Cathy   35    Los Angeles"
      ]
     },
     "execution_count": 6,
     "metadata": {},
     "output_type": "execute_result"
    }
   ],
   "source": [
    "import pandas as pd\n",
    "\n",
    "data = {\n",
    "    'Name': ['Alice', 'Bob', 'Cathy'],\n",
    "    'Age': [25, 30, 35],\n",
    "    'City': ['New York', 'San Francisco', 'Los Angeles']\n",
    "} # 建立一個字典\n",
    "\n",
    "df = pd.DataFrame(data)\n",
    "df"
   ]
  },
  {
   "attachments": {},
   "cell_type": "markdown",
   "metadata": {},
   "source": [
    "#### DataFrame的索引"
   ]
  },
  {
   "cell_type": "code",
   "execution_count": 7,
   "metadata": {},
   "outputs": [
    {
     "data": {
      "text/plain": [
       "0    Alice\n",
       "1      Bob\n",
       "2    Cathy\n",
       "Name: Name, dtype: object"
      ]
     },
     "execution_count": 7,
     "metadata": {},
     "output_type": "execute_result"
    }
   ],
   "source": [
    "df['Name']  # 輸出Name欄位"
   ]
  },
  {
   "cell_type": "code",
   "execution_count": 8,
   "metadata": {},
   "outputs": [
    {
     "name": "stdout",
     "output_type": "stream",
     "text": [
      "Name       Alice\n",
      "Age           25\n",
      "City    New York\n",
      "Name: 0, dtype: object\n",
      "---\n",
      "25\n"
     ]
    }
   ],
   "source": [
    "print(df.loc[0])  # 輸出第一列(從0開始數)\n",
    "print(\"---\")\n",
    "print(df.iloc[0, 1])  # 輸出第一列第二行（即Age欄位）的值"
   ]
  },
  {
   "attachments": {},
   "cell_type": "markdown",
   "metadata": {},
   "source": [
    "#### DataFrame操作方法"
   ]
  },
  {
   "cell_type": "code",
   "execution_count": 10,
   "metadata": {},
   "outputs": [
    {
     "name": "stdout",
     "output_type": "stream",
     "text": [
      "        Age\n",
      "count   3.0\n",
      "mean   30.0\n",
      "std     5.0\n",
      "min    25.0\n",
      "25%    27.5\n",
      "50%    30.0\n",
      "75%    32.5\n",
      "max    35.0\n",
      "30.0\n"
     ]
    },
    {
     "data": {
      "text/html": [
       "<div>\n",
       "<style scoped>\n",
       "    .dataframe tbody tr th:only-of-type {\n",
       "        vertical-align: middle;\n",
       "    }\n",
       "\n",
       "    .dataframe tbody tr th {\n",
       "        vertical-align: top;\n",
       "    }\n",
       "\n",
       "    .dataframe thead th {\n",
       "        text-align: right;\n",
       "    }\n",
       "</style>\n",
       "<table border=\"1\" class=\"dataframe\">\n",
       "  <thead>\n",
       "    <tr style=\"text-align: right;\">\n",
       "      <th></th>\n",
       "      <th>Name</th>\n",
       "      <th>Age</th>\n",
       "      <th>City</th>\n",
       "    </tr>\n",
       "  </thead>\n",
       "  <tbody>\n",
       "    <tr>\n",
       "      <th>0</th>\n",
       "      <td>Alice</td>\n",
       "      <td>25</td>\n",
       "      <td>New York</td>\n",
       "    </tr>\n",
       "    <tr>\n",
       "      <th>1</th>\n",
       "      <td>Bob</td>\n",
       "      <td>30</td>\n",
       "      <td>San Francisco</td>\n",
       "    </tr>\n",
       "    <tr>\n",
       "      <th>2</th>\n",
       "      <td>Cathy</td>\n",
       "      <td>35</td>\n",
       "      <td>Los Angeles</td>\n",
       "    </tr>\n",
       "  </tbody>\n",
       "</table>\n",
       "</div>"
      ],
      "text/plain": [
       "    Name  Age           City\n",
       "0  Alice   25       New York\n",
       "1    Bob   30  San Francisco\n",
       "2  Cathy   35    Los Angeles"
      ]
     },
     "execution_count": 10,
     "metadata": {},
     "output_type": "execute_result"
    }
   ],
   "source": [
    "# 計算DataFrame的基本統計信息\n",
    "print(df.describe())\n",
    "\n",
    "# 計算Age列的平均值\n",
    "print(df['Age'].mean())\n",
    "\n",
    "# 將DataFrame按照Age列進行排序\n",
    "df.sort_values(by='Age')\n"
   ]
  },
  {
   "attachments": {},
   "cell_type": "markdown",
   "metadata": {},
   "source": []
  },
  {
   "attachments": {},
   "cell_type": "markdown",
   "metadata": {},
   "source": [
    "## Pandas數據讀取與清理"
   ]
  },
  {
   "attachments": {},
   "cell_type": "markdown",
   "metadata": {},
   "source": [
    "### 數據讀取"
   ]
  },
  {
   "attachments": {},
   "cell_type": "markdown",
   "metadata": {},
   "source": [
    "#### 讀取csv"
   ]
  },
  {
   "cell_type": "code",
   "execution_count": 11,
   "metadata": {},
   "outputs": [
    {
     "ename": "FileNotFoundError",
     "evalue": "[Errno 2] No such file or directory: 'data.csv'",
     "output_type": "error",
     "traceback": [
      "\u001b[0;31m---------------------------------------------------------------------------\u001b[0m",
      "\u001b[0;31mFileNotFoundError\u001b[0m                         Traceback (most recent call last)",
      "Cell \u001b[0;32mIn[11], line 4\u001b[0m\n\u001b[1;32m      1\u001b[0m \u001b[39mimport\u001b[39;00m \u001b[39mpandas\u001b[39;00m \u001b[39mas\u001b[39;00m \u001b[39mpd\u001b[39;00m\n\u001b[1;32m      3\u001b[0m \u001b[39m# 讀取CSV文件\u001b[39;00m\n\u001b[0;32m----> 4\u001b[0m data \u001b[39m=\u001b[39m pd\u001b[39m.\u001b[39;49mread_csv(\u001b[39m'\u001b[39;49m\u001b[39mdata.csv\u001b[39;49m\u001b[39m'\u001b[39;49m)\n\u001b[1;32m      6\u001b[0m \u001b[39m# 顯示前五筆數據\u001b[39;00m\n\u001b[1;32m      7\u001b[0m data\u001b[39m.\u001b[39mhead()\n",
      "File \u001b[0;32m~/miniconda3/envs/py39/lib/python3.9/site-packages/pandas/io/parsers/readers.py:912\u001b[0m, in \u001b[0;36mread_csv\u001b[0;34m(filepath_or_buffer, sep, delimiter, header, names, index_col, usecols, dtype, engine, converters, true_values, false_values, skipinitialspace, skiprows, skipfooter, nrows, na_values, keep_default_na, na_filter, verbose, skip_blank_lines, parse_dates, infer_datetime_format, keep_date_col, date_parser, date_format, dayfirst, cache_dates, iterator, chunksize, compression, thousands, decimal, lineterminator, quotechar, quoting, doublequote, escapechar, comment, encoding, encoding_errors, dialect, on_bad_lines, delim_whitespace, low_memory, memory_map, float_precision, storage_options, dtype_backend)\u001b[0m\n\u001b[1;32m    899\u001b[0m kwds_defaults \u001b[39m=\u001b[39m _refine_defaults_read(\n\u001b[1;32m    900\u001b[0m     dialect,\n\u001b[1;32m    901\u001b[0m     delimiter,\n\u001b[0;32m   (...)\u001b[0m\n\u001b[1;32m    908\u001b[0m     dtype_backend\u001b[39m=\u001b[39mdtype_backend,\n\u001b[1;32m    909\u001b[0m )\n\u001b[1;32m    910\u001b[0m kwds\u001b[39m.\u001b[39mupdate(kwds_defaults)\n\u001b[0;32m--> 912\u001b[0m \u001b[39mreturn\u001b[39;00m _read(filepath_or_buffer, kwds)\n",
      "File \u001b[0;32m~/miniconda3/envs/py39/lib/python3.9/site-packages/pandas/io/parsers/readers.py:577\u001b[0m, in \u001b[0;36m_read\u001b[0;34m(filepath_or_buffer, kwds)\u001b[0m\n\u001b[1;32m    574\u001b[0m _validate_names(kwds\u001b[39m.\u001b[39mget(\u001b[39m\"\u001b[39m\u001b[39mnames\u001b[39m\u001b[39m\"\u001b[39m, \u001b[39mNone\u001b[39;00m))\n\u001b[1;32m    576\u001b[0m \u001b[39m# Create the parser.\u001b[39;00m\n\u001b[0;32m--> 577\u001b[0m parser \u001b[39m=\u001b[39m TextFileReader(filepath_or_buffer, \u001b[39m*\u001b[39;49m\u001b[39m*\u001b[39;49mkwds)\n\u001b[1;32m    579\u001b[0m \u001b[39mif\u001b[39;00m chunksize \u001b[39mor\u001b[39;00m iterator:\n\u001b[1;32m    580\u001b[0m     \u001b[39mreturn\u001b[39;00m parser\n",
      "File \u001b[0;32m~/miniconda3/envs/py39/lib/python3.9/site-packages/pandas/io/parsers/readers.py:1407\u001b[0m, in \u001b[0;36mTextFileReader.__init__\u001b[0;34m(self, f, engine, **kwds)\u001b[0m\n\u001b[1;32m   1404\u001b[0m     \u001b[39mself\u001b[39m\u001b[39m.\u001b[39moptions[\u001b[39m\"\u001b[39m\u001b[39mhas_index_names\u001b[39m\u001b[39m\"\u001b[39m] \u001b[39m=\u001b[39m kwds[\u001b[39m\"\u001b[39m\u001b[39mhas_index_names\u001b[39m\u001b[39m\"\u001b[39m]\n\u001b[1;32m   1406\u001b[0m \u001b[39mself\u001b[39m\u001b[39m.\u001b[39mhandles: IOHandles \u001b[39m|\u001b[39m \u001b[39mNone\u001b[39;00m \u001b[39m=\u001b[39m \u001b[39mNone\u001b[39;00m\n\u001b[0;32m-> 1407\u001b[0m \u001b[39mself\u001b[39m\u001b[39m.\u001b[39m_engine \u001b[39m=\u001b[39m \u001b[39mself\u001b[39;49m\u001b[39m.\u001b[39;49m_make_engine(f, \u001b[39mself\u001b[39;49m\u001b[39m.\u001b[39;49mengine)\n",
      "File \u001b[0;32m~/miniconda3/envs/py39/lib/python3.9/site-packages/pandas/io/parsers/readers.py:1661\u001b[0m, in \u001b[0;36mTextFileReader._make_engine\u001b[0;34m(self, f, engine)\u001b[0m\n\u001b[1;32m   1659\u001b[0m     \u001b[39mif\u001b[39;00m \u001b[39m\"\u001b[39m\u001b[39mb\u001b[39m\u001b[39m\"\u001b[39m \u001b[39mnot\u001b[39;00m \u001b[39min\u001b[39;00m mode:\n\u001b[1;32m   1660\u001b[0m         mode \u001b[39m+\u001b[39m\u001b[39m=\u001b[39m \u001b[39m\"\u001b[39m\u001b[39mb\u001b[39m\u001b[39m\"\u001b[39m\n\u001b[0;32m-> 1661\u001b[0m \u001b[39mself\u001b[39m\u001b[39m.\u001b[39mhandles \u001b[39m=\u001b[39m get_handle(\n\u001b[1;32m   1662\u001b[0m     f,\n\u001b[1;32m   1663\u001b[0m     mode,\n\u001b[1;32m   1664\u001b[0m     encoding\u001b[39m=\u001b[39;49m\u001b[39mself\u001b[39;49m\u001b[39m.\u001b[39;49moptions\u001b[39m.\u001b[39;49mget(\u001b[39m\"\u001b[39;49m\u001b[39mencoding\u001b[39;49m\u001b[39m\"\u001b[39;49m, \u001b[39mNone\u001b[39;49;00m),\n\u001b[1;32m   1665\u001b[0m     compression\u001b[39m=\u001b[39;49m\u001b[39mself\u001b[39;49m\u001b[39m.\u001b[39;49moptions\u001b[39m.\u001b[39;49mget(\u001b[39m\"\u001b[39;49m\u001b[39mcompression\u001b[39;49m\u001b[39m\"\u001b[39;49m, \u001b[39mNone\u001b[39;49;00m),\n\u001b[1;32m   1666\u001b[0m     memory_map\u001b[39m=\u001b[39;49m\u001b[39mself\u001b[39;49m\u001b[39m.\u001b[39;49moptions\u001b[39m.\u001b[39;49mget(\u001b[39m\"\u001b[39;49m\u001b[39mmemory_map\u001b[39;49m\u001b[39m\"\u001b[39;49m, \u001b[39mFalse\u001b[39;49;00m),\n\u001b[1;32m   1667\u001b[0m     is_text\u001b[39m=\u001b[39;49mis_text,\n\u001b[1;32m   1668\u001b[0m     errors\u001b[39m=\u001b[39;49m\u001b[39mself\u001b[39;49m\u001b[39m.\u001b[39;49moptions\u001b[39m.\u001b[39;49mget(\u001b[39m\"\u001b[39;49m\u001b[39mencoding_errors\u001b[39;49m\u001b[39m\"\u001b[39;49m, \u001b[39m\"\u001b[39;49m\u001b[39mstrict\u001b[39;49m\u001b[39m\"\u001b[39;49m),\n\u001b[1;32m   1669\u001b[0m     storage_options\u001b[39m=\u001b[39;49m\u001b[39mself\u001b[39;49m\u001b[39m.\u001b[39;49moptions\u001b[39m.\u001b[39;49mget(\u001b[39m\"\u001b[39;49m\u001b[39mstorage_options\u001b[39;49m\u001b[39m\"\u001b[39;49m, \u001b[39mNone\u001b[39;49;00m),\n\u001b[1;32m   1670\u001b[0m )\n\u001b[1;32m   1671\u001b[0m \u001b[39massert\u001b[39;00m \u001b[39mself\u001b[39m\u001b[39m.\u001b[39mhandles \u001b[39mis\u001b[39;00m \u001b[39mnot\u001b[39;00m \u001b[39mNone\u001b[39;00m\n\u001b[1;32m   1672\u001b[0m f \u001b[39m=\u001b[39m \u001b[39mself\u001b[39m\u001b[39m.\u001b[39mhandles\u001b[39m.\u001b[39mhandle\n",
      "File \u001b[0;32m~/miniconda3/envs/py39/lib/python3.9/site-packages/pandas/io/common.py:859\u001b[0m, in \u001b[0;36mget_handle\u001b[0;34m(path_or_buf, mode, encoding, compression, memory_map, is_text, errors, storage_options)\u001b[0m\n\u001b[1;32m    854\u001b[0m \u001b[39melif\u001b[39;00m \u001b[39misinstance\u001b[39m(handle, \u001b[39mstr\u001b[39m):\n\u001b[1;32m    855\u001b[0m     \u001b[39m# Check whether the filename is to be opened in binary mode.\u001b[39;00m\n\u001b[1;32m    856\u001b[0m     \u001b[39m# Binary mode does not support 'encoding' and 'newline'.\u001b[39;00m\n\u001b[1;32m    857\u001b[0m     \u001b[39mif\u001b[39;00m ioargs\u001b[39m.\u001b[39mencoding \u001b[39mand\u001b[39;00m \u001b[39m\"\u001b[39m\u001b[39mb\u001b[39m\u001b[39m\"\u001b[39m \u001b[39mnot\u001b[39;00m \u001b[39min\u001b[39;00m ioargs\u001b[39m.\u001b[39mmode:\n\u001b[1;32m    858\u001b[0m         \u001b[39m# Encoding\u001b[39;00m\n\u001b[0;32m--> 859\u001b[0m         handle \u001b[39m=\u001b[39m \u001b[39mopen\u001b[39;49m(\n\u001b[1;32m    860\u001b[0m             handle,\n\u001b[1;32m    861\u001b[0m             ioargs\u001b[39m.\u001b[39;49mmode,\n\u001b[1;32m    862\u001b[0m             encoding\u001b[39m=\u001b[39;49mioargs\u001b[39m.\u001b[39;49mencoding,\n\u001b[1;32m    863\u001b[0m             errors\u001b[39m=\u001b[39;49merrors,\n\u001b[1;32m    864\u001b[0m             newline\u001b[39m=\u001b[39;49m\u001b[39m\"\u001b[39;49m\u001b[39m\"\u001b[39;49m,\n\u001b[1;32m    865\u001b[0m         )\n\u001b[1;32m    866\u001b[0m     \u001b[39melse\u001b[39;00m:\n\u001b[1;32m    867\u001b[0m         \u001b[39m# Binary mode\u001b[39;00m\n\u001b[1;32m    868\u001b[0m         handle \u001b[39m=\u001b[39m \u001b[39mopen\u001b[39m(handle, ioargs\u001b[39m.\u001b[39mmode)\n",
      "\u001b[0;31mFileNotFoundError\u001b[0m: [Errno 2] No such file or directory: 'data.csv'"
     ]
    }
   ],
   "source": [
    "import pandas as pd\n",
    "\n",
    "# 讀取CSV文件\n",
    "data = pd.read_csv('data.csv')\n",
    "\n",
    "# 顯示前五筆數據\n",
    "data.head()"
   ]
  },
  {
   "attachments": {},
   "cell_type": "markdown",
   "metadata": {},
   "source": [
    "#### 讀取Excel"
   ]
  },
  {
   "cell_type": "code",
   "execution_count": null,
   "metadata": {},
   "outputs": [],
   "source": [
    "import pandas as pd\n",
    "\n",
    "# 讀取Excel文件\n",
    "data = pd.read_excel('data.xlsx') # 可能需要安裝openpyxl模組\n",
    "\n",
    "# 顯示前3筆數據\n",
    "data.head(3)"
   ]
  },
  {
   "attachments": {},
   "cell_type": "markdown",
   "metadata": {},
   "source": [
    "### 數據清理"
   ]
  },
  {
   "attachments": {},
   "cell_type": "markdown",
   "metadata": {},
   "source": [
    "#### 處理缺失值"
   ]
  },
  {
   "cell_type": "code",
   "execution_count": 13,
   "metadata": {},
   "outputs": [
    {
     "name": "stdout",
     "output_type": "stream",
     "text": [
      "原始數據：\n",
      "     A    B  C\n",
      "0  1.0  NaN  1\n",
      "1  2.0  2.0  2\n",
      "2  NaN  3.0  3\n",
      "3  4.0  4.0  4,\n",
      "---\n",
      "刪除包含缺失值的列：\n",
      "     A    B  C\n",
      "1  2.0  2.0  2\n",
      "3  4.0  4.0  4,\n",
      "---\n",
      "用指定值填充缺失值：\n",
      "     A    B  C\n",
      "0  1.0  0.0  1\n",
      "1  2.0  2.0  2\n",
      "2  0.0  3.0  3\n",
      "3  4.0  4.0  4,\n",
      "---\n",
      "用前一個值填充缺失值：\n",
      "     A    B  C\n",
      "0  1.0  NaN  1\n",
      "1  2.0  2.0  2\n",
      "2  2.0  3.0  3\n",
      "3  4.0  4.0  4,\n",
      "---\n",
      "用後一個值填充缺失值：\n",
      "     A    B  C\n",
      "0  1.0  2.0  1\n",
      "1  2.0  2.0  2\n",
      "2  4.0  3.0  3\n",
      "3  4.0  4.0  4,\n",
      "---\n"
     ]
    }
   ],
   "source": [
    "import pandas as pd\n",
    "\n",
    "# 假設我們有以下DataFrame\n",
    "data = pd.DataFrame({'A': [1, 2, None, 4],\n",
    "                     'B': [None, 2, 3, 4],\n",
    "                     'C': [1, 2, 3, 4]})\n",
    "print(f\"原始數據：\\n{data},\\n---\")\n",
    "\n",
    "# 方法1：刪除包含缺失值的列\n",
    "data_dropna = data.dropna()\n",
    "print(f\"刪除包含缺失值的列：\\n{data_dropna},\\n---\")\n",
    "\n",
    "# 方法2：用指定值填充缺失值\n",
    "data_fillna = data.fillna(0)\n",
    "print(f\"用指定值填充缺失值：\\n{data_fillna},\\n---\")\n",
    "\n",
    "# 方法3：用前一個值填充缺失值\n",
    "data_fillna_ffill = data.fillna(method='ffill')\n",
    "print(f\"用前一個值填充缺失值：\\n{data_fillna_ffill},\\n---\")\n",
    "\n",
    "# 方法4：用後一個值填充缺失值\n",
    "data_fillna_bfill = data.fillna(method='bfill')\n",
    "print(f\"用後一個值填充缺失值：\\n{data_fillna_bfill},\\n---\")\n"
   ]
  },
  {
   "attachments": {},
   "cell_type": "markdown",
   "metadata": {},
   "source": [
    "#### 處理重複值"
   ]
  },
  {
   "cell_type": "code",
   "execution_count": 12,
   "metadata": {},
   "outputs": [
    {
     "name": "stdout",
     "output_type": "stream",
     "text": [
      "原始數據：\n",
      "   A  B  C\n",
      "0  1  1  1\n",
      "1  2  2  2\n",
      "2  2  3  3\n",
      "3  4  4  4\n",
      "4  4  4  4,\n",
      "---\n",
      "刪除重複值：\n",
      "   A  B  C\n",
      "0  1  1  1\n",
      "1  2  2  2\n",
      "2  2  3  3\n",
      "3  4  4  4,\n",
      "---\n"
     ]
    }
   ],
   "source": [
    "import pandas as pd\n",
    "\n",
    "# 假設我們有以下DataFrame\n",
    "data = pd.DataFrame({'A': [1, 2, 2, 4, 4],\n",
    "                     'B': [1, 2, 3, 4, 4],\n",
    "                     'C': [1, 2, 3, 4, 4]})\n",
    "print(f\"原始數據：\\n{data},\\n---\")\n",
    "\n",
    "# 刪除重複值\n",
    "data_drop_duplicates = data.drop_duplicates()\n",
    "print(f\"刪除重複值：\\n{data_drop_duplicates},\\n---\")"
   ]
  },
  {
   "attachments": {},
   "cell_type": "markdown",
   "metadata": {},
   "source": [
    "#### 合併與重塑"
   ]
  },
  {
   "cell_type": "code",
   "execution_count": 15,
   "metadata": {},
   "outputs": [
    {
     "name": "stdout",
     "output_type": "stream",
     "text": [
      "原始數據1：\n",
      "   A  B\n",
      "0  1  4\n",
      "1  2  5\n",
      "2  3  6,\n",
      "---\n",
      "原始數據2：\n",
      "   A   B\n",
      "0  1  10\n",
      "1  8  11\n",
      "2  9  12,\n",
      "---\n",
      "用concat合併後的數據：\n",
      "   A   B\n",
      "0  1   4\n",
      "1  2   5\n",
      "2  3   6\n",
      "3  1  10\n",
      "4  8  11\n",
      "5  9  12,\n",
      "---\n",
      "用merge合併後的數據：\n",
      "   A  B_x  B_y\n",
      "0  1    4   10,\n",
      "---\n"
     ]
    }
   ],
   "source": [
    "import pandas as pd\n",
    "\n",
    "# 假設我們有以下兩個DataFrame\n",
    "data1 = pd.DataFrame({'A': [1, 2, 3],\n",
    "                      'B': [4, 5, 6]})\n",
    "data2 = pd.DataFrame({'A': [1, 8, 9],\n",
    "                      'B': [10, 11, 12]})\n",
    "print(f\"原始數據1：\\n{data1},\\n---\")\n",
    "print(f\"原始數據2：\\n{data2},\\n---\")\n",
    "\n",
    "\n",
    "# 使用concat()函數合併兩個DataFrame\n",
    "data_concat = pd.concat([data1, data2], ignore_index=True)\n",
    "print(f\"用concat合併後的數據：\\n{data_concat},\\n---\")\n",
    "\n",
    "# 使用merge()函數根據指定欄位合併兩個DataFrame\n",
    "data_merge = pd.merge(data1, data2, on='A')\n",
    "print(f\"用merge合併後的數據：\\n{data_merge},\\n---\")\n"
   ]
  },
  {
   "cell_type": "code",
   "execution_count": 4,
   "metadata": {},
   "outputs": [
    {
     "data": {
      "text/html": [
       "<div>\n",
       "<style scoped>\n",
       "    .dataframe tbody tr th:only-of-type {\n",
       "        vertical-align: middle;\n",
       "    }\n",
       "\n",
       "    .dataframe tbody tr th {\n",
       "        vertical-align: top;\n",
       "    }\n",
       "\n",
       "    .dataframe thead th {\n",
       "        text-align: right;\n",
       "    }\n",
       "</style>\n",
       "<table border=\"1\" class=\"dataframe\">\n",
       "  <thead>\n",
       "    <tr style=\"text-align: right;\">\n",
       "      <th></th>\n",
       "      <th>A</th>\n",
       "      <th>B_x</th>\n",
       "      <th>B_y</th>\n",
       "    </tr>\n",
       "  </thead>\n",
       "  <tbody>\n",
       "    <tr>\n",
       "      <th>0</th>\n",
       "      <td>1</td>\n",
       "      <td>4</td>\n",
       "      <td>10</td>\n",
       "    </tr>\n",
       "  </tbody>\n",
       "</table>\n",
       "</div>"
      ],
      "text/plain": [
       "   A  B_x  B_y\n",
       "0  1    4   10"
      ]
     },
     "execution_count": 4,
     "metadata": {},
     "output_type": "execute_result"
    }
   ],
   "source": [
    "data_merge"
   ]
  },
  {
   "attachments": {},
   "cell_type": "markdown",
   "metadata": {},
   "source": [
    "## Pandas數據選擇與操作"
   ]
  },
  {
   "attachments": {},
   "cell_type": "markdown",
   "metadata": {},
   "source": [
    "### 數據選取"
   ]
  },
  {
   "attachments": {},
   "cell_type": "markdown",
   "metadata": {},
   "source": [
    "#### pandas索引"
   ]
  },
  {
   "cell_type": "code",
   "execution_count": 22,
   "metadata": {},
   "outputs": [
    {
     "name": "stdout",
     "output_type": "stream",
     "text": [
      "A    1\n",
      "B    4\n",
      "C    7\n",
      "Name: row1, dtype: int64 \n",
      "---\n",
      "\n",
      "row1    1\n",
      "row2    2\n",
      "row3    3\n",
      "Name: A, dtype: int64 \n",
      "---\n",
      "\n",
      "A    1\n",
      "B    4\n",
      "C    7\n",
      "Name: row1, dtype: int64 \n",
      "---\n",
      "\n",
      "row1    1\n",
      "row2    2\n",
      "row3    3\n",
      "Name: A, dtype: int64 \n",
      "---\n",
      "\n",
      "1 \n",
      "---\n",
      "\n",
      "1 \n",
      "---\n",
      "\n"
     ]
    }
   ],
   "source": [
    "import pandas as pd\n",
    "\n",
    "data = {'A': [1, 2, 3],\n",
    "        'B': [4, 5, 6],\n",
    "        'C': [7, 8, 9]}\n",
    "df = pd.DataFrame(data, index=['row1', 'row2', 'row3'])\n",
    "\n",
    "# 使用loc選取指定行或列\n",
    "print(df.loc['row1'], \"\\n---\\n\")  # 選取row1這一列\n",
    "print(df.loc[:, 'A'], \"\\n---\\n\")  # 選取A這一行\n",
    "\n",
    "# 使用iloc選取指定行或列\n",
    "print(df.iloc[0], \"\\n---\\n\")  # 選取第一列\n",
    "print(df.iloc[:, 0], \"\\n---\\n\")  # 選取第一行\n",
    "\n",
    "# 使用at選取單個元素\n",
    "print(df.at['row1', 'A'], \"\\n---\\n\")  # 選取row1列A行(欄)的元素\n",
    "\n",
    "# 使用iat選取單個元素\n",
    "print(df.iat[0, 0], \"\\n---\\n\")  # 選取第一列第一行的元素\n"
   ]
  },
  {
   "attachments": {},
   "cell_type": "markdown",
   "metadata": {},
   "source": [
    "#### pandas篩選"
   ]
  },
  {
   "cell_type": "code",
   "execution_count": 17,
   "metadata": {},
   "outputs": [
    {
     "name": "stdout",
     "output_type": "stream",
     "text": [
      "df.query('A > 1'):\n",
      "   A  B  C\n",
      "1  2  5  8\n",
      "2  3  6  9\n",
      "    A    B  C\n",
      "0 NaN  NaN  7\n",
      "1 NaN  5.0  8\n",
      "2 NaN  6.0  9\n",
      "   A  B  C\n",
      "0  1  4  7\n",
      "2  3  6  9\n",
      "        A       B\n",
      "0   apple  orange\n",
      "1  banana   grape\n",
      "   A    B\n",
      "0  1  4.0\n",
      "1  2  5.0\n",
      "2  3  6.0\n"
     ]
    }
   ],
   "source": [
    "import pandas as pd\n",
    "\n",
    "data = {'A': [1, 2, 3],\n",
    "        'B': [4, 5, 6],\n",
    "        'C': [7, 8, 9]}\n",
    "df = pd.DataFrame(data)\n",
    "\n",
    "# 使用query篩選數據\n",
    "print(df.query('A > 1'))  # 選取A列大於1的列\n",
    "\n",
    "# 使用where篩選數據\n",
    "print(df.where(df > 4))  # 選取大於4的數據，不符合條件的數據將被替換為NaN\n",
    "\n",
    "# 使用isin篩選數據\n",
    "print(df[df['A'].isin([1, 3])])  # 選取A列值為1或3的列\n",
    "\n",
    "# 使用str篩選數據\n",
    "data = {'A': ['apple', 'banana', 'cherry'],\n",
    "        'B': ['orange', 'grape', 'lemon']}\n",
    "df = pd.DataFrame(data)\n",
    "print(df[df['A'].str.contains('a')])  # 選取A列包含字母'a'的列\n",
    "\n",
    "# 使用select_dtypes篩選數據\n",
    "data = {'A': [1, 2, 3],\n",
    "        'B': [4.0, 5.0, 6.0],\n",
    "        'C': ['a', 'b', 'c']}\n",
    "df = pd.DataFrame(data)\n",
    "print(df.select_dtypes(include='number'))  # 選取數值類型的行\n"
   ]
  },
  {
   "attachments": {},
   "cell_type": "markdown",
   "metadata": {},
   "source": [
    "### 數據操作"
   ]
  },
  {
   "attachments": {},
   "cell_type": "markdown",
   "metadata": {},
   "source": [
    "#### 數據排序"
   ]
  },
  {
   "cell_type": "code",
   "execution_count": 25,
   "metadata": {},
   "outputs": [
    {
     "name": "stdout",
     "output_type": "stream",
     "text": [
      "   A  B  C\n",
      "1  1  4  7\n",
      "2  2  5  8\n",
      "0  3  6  9 \n",
      "---\n",
      "\n",
      "   A  B  C\n",
      "1  1  4  7\n",
      "2  2  5  8\n",
      "0  3  6  9 \n",
      "---\n",
      "\n",
      "      A  B  C\n",
      "row1  1  4  7\n",
      "row2  2  5  8\n",
      "row3  3  6  9 \n",
      "---\n",
      "\n"
     ]
    }
   ],
   "source": [
    "import pandas as pd\n",
    "\n",
    "data = {'A': [3, 1, 2],\n",
    "        'B': [6, 4, 5],\n",
    "        'C': [9, 7, 8]}\n",
    "df = pd.DataFrame(data)\n",
    "\n",
    "# 使用sort_values對數據進行排序\n",
    "print(df.sort_values(by='A'), \"\\n---\\n\")  # 根據A列的值進列排序\n",
    "print(df.sort_values(by=['A', 'B']), \"\\n---\\n\")  # 根據A行和B行的值進列排序\n",
    "\n",
    "# 使用sort_index對數據進列排序\n",
    "df.index = ['row3', 'row1', 'row2']\n",
    "print(df.sort_index(), \"\\n---\\n\")  # 根據索引進列排序\n"
   ]
  },
  {
   "attachments": {},
   "cell_type": "markdown",
   "metadata": {},
   "source": [
    "#### 分組與聚合"
   ]
  },
  {
   "cell_type": "code",
   "execution_count": 18,
   "metadata": {},
   "outputs": [
    {
     "name": "stdout",
     "output_type": "stream",
     "text": [
      "          Value\n",
      "Category       \n",
      "A             3\n",
      "B             7\n",
      "C            11 \n",
      "---\n",
      "\n",
      "          Value\n",
      "Category       \n",
      "A           1.5\n",
      "B           3.5\n",
      "C           5.5 \n",
      "---\n",
      "\n",
      "Category\n",
      "A    2\n",
      "B    2\n",
      "C    2\n",
      "dtype: int64 \n",
      "---\n",
      "\n"
     ]
    }
   ],
   "source": [
    "import pandas as pd\n",
    "\n",
    "data = {'Category': ['A', 'A', 'B', 'B', 'C', 'C'],\n",
    "        'Value': [1, 2, 3, 4, 5, 6]}\n",
    "df = pd.DataFrame(data)\n",
    "\n",
    "# 使用groupby進行分組\n",
    "grouped = df.groupby('Category')\n",
    "\n",
    "# 使用聚合函數對分組後的數據\n",
    "print(grouped.sum(), \"\\n---\\n\")  # 計算分組後的和\n",
    "print(grouped.mean(), \"\\n---\\n\")  # 計算分組後的平均值\n",
    "print(grouped.size(), \"\\n---\\n\")  # 計算分組後的元素個數\n"
   ]
  },
  {
   "attachments": {},
   "cell_type": "markdown",
   "metadata": {},
   "source": [
    "## Pandas樞紐分析與聚合"
   ]
  },
  {
   "attachments": {},
   "cell_type": "markdown",
   "metadata": {},
   "source": []
  }
 ],
 "metadata": {
  "kernelspec": {
   "display_name": "data38",
   "language": "python",
   "name": "python3"
  },
  "language_info": {
   "codemirror_mode": {
    "name": "ipython",
    "version": 3
   },
   "file_extension": ".py",
   "mimetype": "text/x-python",
   "name": "python",
   "nbconvert_exporter": "python",
   "pygments_lexer": "ipython3",
   "version": "3.9.0"
  },
  "orig_nbformat": 4
 },
 "nbformat": 4,
 "nbformat_minor": 2
}
