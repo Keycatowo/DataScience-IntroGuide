{
 "cells": [
  {
   "attachments": {},
   "cell_type": "markdown",
   "metadata": {},
   "source": [
    "# NumPy"
   ]
  },
  {
   "attachments": {},
   "cell_type": "markdown",
   "metadata": {},
   "source": [
    "## 載入numpy套件\n",
    "+ 在使用NumPy創建數組之前，必須先導入NumPy庫。\n",
    "+ 如果你的環境還沒有安裝NumPy，請先安裝NumPy套件"
   ]
  },
  {
   "cell_type": "code",
   "execution_count": 21,
   "metadata": {},
   "outputs": [],
   "source": [
    "# 如果沒有安裝numpy 則執行下列指令安裝(移除註解後執行，只需執行一次)\n",
    "# !pip install numpy"
   ]
  },
  {
   "cell_type": "code",
   "execution_count": 2,
   "metadata": {},
   "outputs": [],
   "source": [
    "import numpy as np # 導入numpy套件，並命名為np"
   ]
  },
  {
   "attachments": {},
   "cell_type": "markdown",
   "metadata": {},
   "source": [
    "## NumPy陣列基礎"
   ]
  },
  {
   "attachments": {},
   "cell_type": "markdown",
   "metadata": {},
   "source": [
    "### NumPy的資料型態：ndarray"
   ]
  },
  {
   "attachments": {},
   "cell_type": "markdown",
   "metadata": {},
   "source": [
    "- `shape`：陣列的形狀，表示每個維度的大小。\n",
    "- `dtype`：陣列中元素的資料型別。\n",
    "- `ndim`：陣列的維度數量。\n",
    "- `size`：陣列中元素的總數量。"
   ]
  },
  {
   "cell_type": "code",
   "execution_count": 1,
   "metadata": {},
   "outputs": [
    {
     "name": "stdout",
     "output_type": "stream",
     "text": [
      "Shape: (5,)\n",
      "Data type: int32\n",
      "Number of dimensions: 1\n",
      "Size: 5\n"
     ]
    }
   ],
   "source": [
    "import numpy as np\n",
    "\n",
    "# 創建一個一維陣列\n",
    "arr = np.array([1, 2, 3, 4, 5])\n",
    "\n",
    "print(\"Shape:\", arr.shape)  # 輸出：(5,)\n",
    "print(\"Data type:\", arr.dtype)  # 輸出：int64\n",
    "print(\"Number of dimensions:\", arr.ndim)  # 輸出：1\n",
    "print(\"Size:\", arr.size)  # 輸出：5"
   ]
  },
  {
   "attachments": {},
   "cell_type": "markdown",
   "metadata": {},
   "source": [
    "### 建立NumPy陣列\n",
    "+ `np.array()`： 從現有數據（如列表或元組）建立陣列。\n",
    "+ `np.zeros()`： 建立指定大小的陣列，陣列元素以0填充。\n",
    "+ `np.ones()`： 建立指定大小的陣列，陣列元素以1填充。\n",
    "+ `np.full()`： 建立指定大小的陣列，陣列元素以指定數值填充。\n",
    "+ `np.arange()`： 建立等差陣列，指定起始值、終止值和間隔值。\n",
    "+ `np.linspace()`： 建立等差陣列，指定起始值、終止值和元素個數。\n",
    "+ `np.logspace()`： 建立等比陣列，指定起始值、終止值和元素個數。\n",
    "\n",
    "> `np.arange()`和`np.linspace()`不同的是：\n",
    "> + `np.arange()`則是指定數組元素的間隔\n",
    "> + `np.linspace()`可以指定數組元素的個數"
   ]
  },
  {
   "cell_type": "code",
   "execution_count": 10,
   "metadata": {},
   "outputs": [
    {
     "name": "stdout",
     "output_type": "stream",
     "text": [
      "Array from list:\n",
      " [1 2 3 4 5]\n",
      "Array of zeros:\n",
      " [0. 0. 0. 0. 0.]\n",
      "Array of ones:\n",
      " [1. 1. 1. 1. 1.]\n",
      "Array of full:\n",
      " [[5 5 5]\n",
      " [5 5 5]]\n",
      "Array with arange:\n",
      " [0 2 4 6 8]\n",
      "Array with linspace:\n",
      " [0.   0.25 0.5  0.75 1.  ]\n",
      "Array with logspace:\n",
      " [   10.   100.  1000. 10000.]\n"
     ]
    }
   ],
   "source": [
    "# 從列表建立陣列\n",
    "arr_from_list = np.array([1, 2, 3, 4, 5])\n",
    "print(\"Array from list:\\n\", arr_from_list)\n",
    "\n",
    "# 建立全0陣列\n",
    "arr_zeros = np.zeros(5)\n",
    "print(\"Array of zeros:\\n\", arr_zeros)\n",
    "\n",
    "# 建立全1陣列\n",
    "arr_ones = np.ones(5)\n",
    "print(\"Array of ones:\\n\", arr_ones)\n",
    "\n",
    "# 建立全部元素指定為5的2x3陣列\n",
    "arr_full = np.full((2, 3), 5)\n",
    "print(\"Array of full:\\n\", arr_full)\n",
    "\n",
    "# 建立等差數列陣列\n",
    "arr_arange = np.arange(0, 10, 2) # 以 2 為間隔從 0 到 10 取值\n",
    "print(\"Array with arange:\\n\", arr_arange)\n",
    "\n",
    "# 建立等分數列陣列\n",
    "arr_linspace = np.linspace(0, 1, 5) # 從 0 到 1 取 5 個數字\n",
    "print(\"Array with linspace:\\n\", arr_linspace)\n",
    "\n",
    "# 建立等比數列陣列\n",
    "arr_logspace = np.logspace(1, 4, 4) # 從 10^1 到 10^4 取 4 個數字\n",
    "print(\"Array with logspace:\\n\", arr_logspace)"
   ]
  },
  {
   "attachments": {},
   "cell_type": "markdown",
   "metadata": {},
   "source": [
    "### NumPy數組的形狀和維度"
   ]
  },
  {
   "cell_type": "code",
   "execution_count": 6,
   "metadata": {},
   "outputs": [
    {
     "name": "stdout",
     "output_type": "stream",
     "text": [
      "2D array:\n",
      " [[1 2 3]\n",
      " [4 5 6]\n",
      " [7 8 9]]\n",
      "3D array:\n",
      " [[[1 2]\n",
      "  [3 4]]\n",
      "\n",
      " [[5 6]\n",
      "  [7 8]]]\n"
     ]
    }
   ],
   "source": [
    "# 二維數組\n",
    "arr_2d = np.array([[1, 2, 3], [4, 5, 6], [7, 8, 9]])\n",
    "print(\"2D array:\\n\", arr_2d)\n",
    "\n",
    "# 三維數組\n",
    "arr_3d = np.array([[[1, 2], [3, 4]], [[5, 6], [7, 8]]])\n",
    "print(\"3D array:\\n\", arr_3d)\n"
   ]
  },
  {
   "cell_type": "code",
   "execution_count": 7,
   "metadata": {},
   "outputs": [
    {
     "name": "stdout",
     "output_type": "stream",
     "text": [
      "Shape of 2D array: (3, 3)\n",
      "Shape of 3D array: (2, 2, 2)\n",
      "Number of dimensions of 2D array: 2\n",
      "Number of dimensions of 3D array: 3\n"
     ]
    }
   ],
   "source": [
    "print(\"Shape of 2D array:\", arr_2d.shape)  # 輸出：(3, 3)\n",
    "print(\"Shape of 3D array:\", arr_3d.shape)  # 輸出：(2, 2, 2)\n",
    "\n",
    "print(\"Number of dimensions of 2D array:\", arr_2d.ndim)  # 輸出：2\n",
    "print(\"Number of dimensions of 3D array:\", arr_3d.ndim)  # 輸出：3\n"
   ]
  },
  {
   "attachments": {},
   "cell_type": "markdown",
   "metadata": {},
   "source": [
    "### 索引和切片選取數據"
   ]
  },
  {
   "cell_type": "code",
   "execution_count": 8,
   "metadata": {},
   "outputs": [
    {
     "name": "stdout",
     "output_type": "stream",
     "text": [
      "Element at index 2: 3\n",
      "Slice from index 1 to 3: [2 3 4]\n",
      "Element at (1, 2): 6\n",
      "Slice of first row: [1 2 3]\n",
      "Slice of first column: [1 4 7]\n"
     ]
    }
   ],
   "source": [
    "# 一維數組的索引和切片\n",
    "arr = np.array([1, 2, 3, 4, 5])\n",
    "print(\"Element at index 2:\", arr[2])  # 輸出：3\n",
    "print(\"Slice from index 1 to 3:\", arr[1:4])  # 輸出：[2 3 4]\n",
    "\n",
    "# 二維數組的索引和切片\n",
    "arr_2d = np.array([[1, 2, 3], [4, 5, 6], [7, 8, 9]])\n",
    "print(\"Element at (1, 2):\", arr_2d[1, 2])  # 輸出：6\n",
    "print(\"Slice of first row:\", arr_2d[0, :])  # 輸出：[1 2 3]\n",
    "print(\"Slice of first column:\", arr_2d[:, 0])  # 輸出：[1 4 7]\n"
   ]
  },
  {
   "attachments": {},
   "cell_type": "markdown",
   "metadata": {},
   "source": [
    "## NumPy基本運算"
   ]
  },
  {
   "attachments": {},
   "cell_type": "markdown",
   "metadata": {},
   "source": [
    "### 四則運算\n",
    "對於NumPy數組的四則運算（加、減、乘、除），這些運算都是對數組中的每個元素進行的。"
   ]
  },
  {
   "cell_type": "code",
   "execution_count": 12,
   "metadata": {},
   "outputs": [
    {
     "name": "stdout",
     "output_type": "stream",
     "text": [
      "arr1 + arr2: [5 7 9]\n",
      "arr1 - arr2: [-3 -3 -3]\n",
      "arr1 * arr2: [ 4 10 18]\n",
      "arr1 / arr2: [0.25 0.4  0.5 ]\n"
     ]
    }
   ],
   "source": [
    "import numpy as np\n",
    "\n",
    "# 創建兩個數組\n",
    "arr1 = np.array([1, 2, 3])\n",
    "arr2 = np.array([4, 5, 6])\n",
    "\n",
    "# 加法\n",
    "print(\"arr1 + arr2:\", arr1 + arr2)\n",
    "\n",
    "# 減法\n",
    "print(\"arr1 - arr2:\", arr1 - arr2)\n",
    "\n",
    "# 乘法\n",
    "print(\"arr1 * arr2:\", arr1 * arr2)\n",
    "\n",
    "# 除法\n",
    "print(\"arr1 / arr2:\", arr1 / arr2)\n"
   ]
  },
  {
   "attachments": {},
   "cell_type": "markdown",
   "metadata": {},
   "source": [
    "### 統計運算"
   ]
  },
  {
   "cell_type": "code",
   "execution_count": 11,
   "metadata": {},
   "outputs": [
    {
     "name": "stdout",
     "output_type": "stream",
     "text": [
      "Sum: 15\n",
      "Mean: 3.0\n",
      "Standard deviation: 1.4142135623730951\n",
      "Max: 5\n",
      "Min: 1\n"
     ]
    }
   ],
   "source": [
    "import numpy as np\n",
    "\n",
    "arr = np.array([1, 2, 3, 4, 5])\n",
    "\n",
    "# 求和\n",
    "print(\"Sum:\", np.sum(arr))\n",
    "\n",
    "# 平均值\n",
    "print(\"Mean:\", np.mean(arr))\n",
    "\n",
    "# 標準差\n",
    "print(\"Standard deviation:\", np.std(arr))\n",
    "\n",
    "# 最大值和最小值\n",
    "print(\"Max:\", np.max(arr))\n",
    "print(\"Min:\", np.min(arr))\n"
   ]
  },
  {
   "attachments": {},
   "cell_type": "markdown",
   "metadata": {},
   "source": [
    "### 數學函數運算"
   ]
  },
  {
   "cell_type": "code",
   "execution_count": 13,
   "metadata": {},
   "outputs": [
    {
     "name": "stdout",
     "output_type": "stream",
     "text": [
      "Exponential: [  2.71828183   7.3890561   20.08553692  54.59815003 148.4131591 ]\n",
      "Natural logarithm: [0.         0.69314718 1.09861229 1.38629436 1.60943791]\n",
      "Base-10 logarithm: [0.         0.30103    0.47712125 0.60205999 0.69897   ]\n",
      "Sine: [ 0.84147098  0.90929743  0.14112001 -0.7568025  -0.95892427]\n",
      "Cosine: [ 0.54030231 -0.41614684 -0.9899925  -0.65364362  0.28366219]\n"
     ]
    }
   ],
   "source": [
    "import numpy as np\n",
    "\n",
    "arr = np.array([1, 2, 3, 4, 5])\n",
    "\n",
    "# 指數函數\n",
    "print(\"Exponential:\", np.exp(arr))\n",
    "\n",
    "# 對數函數\n",
    "print(\"Natural logarithm:\", np.log(arr))\n",
    "print(\"Base-10 logarithm:\", np.log10(arr))\n",
    "\n",
    "# 三角函數\n",
    "print(\"Sine:\", np.sin(arr))\n",
    "print(\"Cosine:\", np.cos(arr))\n"
   ]
  },
  {
   "attachments": {},
   "cell_type": "markdown",
   "metadata": {},
   "source": [
    "### 數組的排序與搜尋\n"
   ]
  },
  {
   "cell_type": "code",
   "execution_count": 14,
   "metadata": {},
   "outputs": [
    {
     "name": "stdout",
     "output_type": "stream",
     "text": [
      "Sorted array: [1 2 3 4 5]\n",
      "Index of max value: 0\n",
      "Index of min value: 2\n"
     ]
    }
   ],
   "source": [
    "import numpy as np\n",
    "\n",
    "arr = np.array([5, 3, 1, 4, 2])\n",
    "\n",
    "# 排序\n",
    "sorted_arr = np.sort(arr)\n",
    "print(\"Sorted array:\", sorted_arr)\n",
    "\n",
    "# 搜索最大值和最小值的索引\n",
    "max_index = np.argmax(arr)\n",
    "min_index = np.argmin(arr)\n",
    "print(\"Index of max value:\", max_index)\n",
    "print(\"Index of min value:\", min_index)\n"
   ]
  },
  {
   "attachments": {},
   "cell_type": "markdown",
   "metadata": {},
   "source": [
    "## 線性代數運算"
   ]
  },
  {
   "attachments": {},
   "cell_type": "markdown",
   "metadata": {},
   "source": [
    "### 矩陣乘法"
   ]
  },
  {
   "cell_type": "code",
   "execution_count": 15,
   "metadata": {},
   "outputs": [
    {
     "name": "stdout",
     "output_type": "stream",
     "text": [
      "Result using np.dot():\n",
      " [[19 22]\n",
      " [43 50]]\n",
      "Result using np.matmul():\n",
      " [[19 22]\n",
      " [43 50]]\n"
     ]
    }
   ],
   "source": [
    "import numpy as np\n",
    "\n",
    "# 創建兩個二維數組（矩陣）\n",
    "A = np.array([[1, 2], [3, 4]])\n",
    "B = np.array([[5, 6], [7, 8]])\n",
    "\n",
    "# 使用np.dot()進行矩陣乘法\n",
    "result_dot = np.dot(A, B)\n",
    "print(\"Result using np.dot():\\n\", result_dot)\n",
    "\n",
    "# 使用np.matmul()進行矩陣乘法\n",
    "result_matmul = np.matmul(A, B)\n",
    "print(\"Result using np.matmul():\\n\", result_matmul)"
   ]
  },
  {
   "attachments": {},
   "cell_type": "markdown",
   "metadata": {},
   "source": [
    "### 求矩陣的逆矩陣"
   ]
  },
  {
   "attachments": {},
   "cell_type": "markdown",
   "metadata": {},
   "source": [
    "### 求解線性方程組"
   ]
  },
  {
   "cell_type": "code",
   "execution_count": 15,
   "metadata": {},
   "outputs": [
    {
     "name": "stdout",
     "output_type": "stream",
     "text": [
      "Solution: [2. 3.]\n"
     ]
    }
   ],
   "source": [
    "import numpy as np\n",
    "\n",
    "# 創建係數矩陣A和常數向量b\n",
    "A = np.array([[3, 1], [1, 2]])\n",
    "b = np.array([9, 8])\n",
    "\n",
    "# 使用np.linalg.solve()求解方程組\n",
    "x = np.linalg.solve(A, b)\n",
    "print(\"Solution:\", x)  # 輸出：[2. 3.]\n"
   ]
  },
  {
   "attachments": {},
   "cell_type": "markdown",
   "metadata": {},
   "source": [
    "## NumPy的廣播機制"
   ]
  },
  {
   "cell_type": "code",
   "execution_count": 16,
   "metadata": {},
   "outputs": [
    {
     "name": "stdout",
     "output_type": "stream",
     "text": [
      "Shape of arr1: (3, 3)\n",
      "Shape of arr2: (3,)\n",
      "Result of broadcasting addition:\n",
      " [[ 2  2  4]\n",
      " [ 5  5  7]\n",
      " [ 8  8 10]]\n"
     ]
    }
   ],
   "source": [
    "import numpy as np\n",
    "\n",
    "# 創建兩個不同形狀的陣列\n",
    "arr1 = np.array([[1, 2, 3], [4, 5, 6], [7, 8, 9]])\n",
    "arr2 = np.array([1, 0, 1])\n",
    "\n",
    "# 查看兩個陣列的形狀\n",
    "print(\"Shape of arr1:\", arr1.shape)\n",
    "print(\"Shape of arr2:\", arr2.shape)\n",
    "\n",
    "# 使用廣播機制進行加法運算\n",
    "result = arr1 + arr2\n",
    "print(\"Result of broadcasting addition:\\n\", result)\n"
   ]
  },
  {
   "attachments": {},
   "cell_type": "markdown",
   "metadata": {},
   "source": [
    "## NumPy向量化運算"
   ]
  },
  {
   "cell_type": "code",
   "execution_count": 17,
   "metadata": {},
   "outputs": [
    {
     "name": "stdout",
     "output_type": "stream",
     "text": [
      "Sine of array:\n",
      " [[ 0.84147098  0.90929743  0.14112001]\n",
      " [-0.7568025  -0.95892427 -0.2794155 ]\n",
      " [ 0.6569866   0.98935825  0.41211849]]\n",
      "Cosine of array:\n",
      " [[ 0.54030231 -0.41614684 -0.9899925 ]\n",
      " [-0.65364362  0.28366219  0.96017029]\n",
      " [ 0.75390225 -0.14550003 -0.91113026]]\n",
      "Exponential of array:\n",
      " [[2.71828183e+00 7.38905610e+00 2.00855369e+01]\n",
      " [5.45981500e+01 1.48413159e+02 4.03428793e+02]\n",
      " [1.09663316e+03 2.98095799e+03 8.10308393e+03]]\n"
     ]
    }
   ],
   "source": [
    "import numpy as np\n",
    "\n",
    "# 建立一個形狀為(3, 3)的數組\n",
    "arr = np.array([[1, 2, 3],\n",
    "                [4, 5, 6],\n",
    "                [7, 8, 9]])\n",
    "\n",
    "# 使用內置向量化函數對數組進行運算\n",
    "sin_arr = np.sin(arr)\n",
    "print(\"Sine of array:\\n\", sin_arr)\n",
    "\n",
    "cos_arr = np.cos(arr)\n",
    "print(\"Cosine of array:\\n\", cos_arr)\n",
    "\n",
    "exp_arr = np.exp(arr)\n",
    "print(\"Exponential of array:\\n\", exp_arr)\n"
   ]
  },
  {
   "cell_type": "code",
   "execution_count": 19,
   "metadata": {},
   "outputs": [
    {
     "name": "stdout",
     "output_type": "stream",
     "text": [
      "Squared array:\n",
      " [[ 1  4  9]\n",
      " [16 25 36]\n",
      " [49 64 81]]\n"
     ]
    }
   ],
   "source": [
    "import numpy as np\n",
    "\n",
    "# 自定義函數\n",
    "def square(x):\n",
    "    return x ** 2\n",
    "\n",
    "# 創建一個形狀為(3, 3)的數組\n",
    "arr = np.array([[1, 2, 3],\n",
    "                [4, 5, 6],\n",
    "                [7, 8, 9]])\n",
    "\n",
    "# 將自定義函數向量化\n",
    "vectorized_square = np.vectorize(square)\n",
    "\n",
    "# 應用向量化函數到數組\n",
    "squared_arr = vectorized_square(arr)\n",
    "print(\"Squared array:\\n\", squared_arr)\n"
   ]
  },
  {
   "attachments": {},
   "cell_type": "markdown",
   "metadata": {},
   "source": []
  }
 ],
 "metadata": {
  "kernelspec": {
   "display_name": "py38",
   "language": "python",
   "name": "python3"
  },
  "language_info": {
   "codemirror_mode": {
    "name": "ipython",
    "version": 3
   },
   "file_extension": ".py",
   "mimetype": "text/x-python",
   "name": "python",
   "nbconvert_exporter": "python",
   "pygments_lexer": "ipython3",
   "version": "3.9.0"
  },
  "orig_nbformat": 4
 },
 "nbformat": 4,
 "nbformat_minor": 2
}
