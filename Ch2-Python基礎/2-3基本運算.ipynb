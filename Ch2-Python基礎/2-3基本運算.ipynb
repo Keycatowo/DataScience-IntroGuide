{
 "cells": [
  {
   "attachments": {},
   "cell_type": "markdown",
   "metadata": {},
   "source": [
    "# 基本運算\n"
   ]
  },
  {
   "attachments": {},
   "cell_type": "markdown",
   "metadata": {},
   "source": [
    "## 基本語法結構"
   ]
  },
  {
   "attachments": {},
   "cell_type": "markdown",
   "metadata": {},
   "source": [
    "### 程式與註解"
   ]
  },
  {
   "cell_type": "code",
   "execution_count": 1,
   "metadata": {},
   "outputs": [
    {
     "name": "stdout",
     "output_type": "stream",
     "text": [
      "Hello, World!\n"
     ]
    }
   ],
   "source": [
    "# 第一個程式：Hello World\n",
    "print(\"Hello, World!\")"
   ]
  },
  {
   "cell_type": "code",
   "execution_count": 2,
   "metadata": {},
   "outputs": [
    {
     "data": {
      "text/plain": [
       "2"
      ]
     },
     "execution_count": 2,
     "metadata": {},
     "output_type": "execute_result"
    }
   ],
   "source": [
    "# 計算 1 + 1\n",
    "1 + 1"
   ]
  },
  {
   "cell_type": "code",
   "execution_count": null,
   "metadata": {},
   "outputs": [],
   "source": [
    "# ❗️這個區塊不用執行，只是用來顯示程式碼的變色效果\n",
    "\n",
    "# 保留字和內建函數都會變色\n",
    "if\n",
    "as\n",
    "or\n",
    "False\n",
    "class\n",
    "abs\n",
    "all\n",
    "list\n",
    "dict\n",
    "pass\n",
    "continue\n",
    "\n",
    "# 非內建函數則不會變色\n",
    "apple\n",
    "book\n",
    "cat\n",
    "abcdefg"
   ]
  },
  {
   "cell_type": "code",
   "execution_count": 3,
   "metadata": {},
   "outputs": [
    {
     "name": "stdout",
     "output_type": "stream",
     "text": [
      "\n",
      "Here is a list of the Python keywords.  Enter any keyword to get more help.\n",
      "\n",
      "False               break               for                 not\n",
      "None                class               from                or\n",
      "True                continue            global              pass\n",
      "__peg_parser__      def                 if                  raise\n",
      "and                 del                 import              return\n",
      "as                  elif                in                  try\n",
      "assert              else                is                  while\n",
      "async               except              lambda              with\n",
      "await               finally             nonlocal            yield\n",
      "\n"
     ]
    }
   ],
   "source": [
    "help(\"keywords\")"
   ]
  },
  {
   "attachments": {},
   "cell_type": "markdown",
   "metadata": {},
   "source": [
    "### 變數"
   ]
  },
  {
   "cell_type": "code",
   "execution_count": 4,
   "metadata": {},
   "outputs": [
    {
     "name": "stdout",
     "output_type": "stream",
     "text": [
      "5\n",
      "Hello, World!\n"
     ]
    }
   ],
   "source": [
    "# 變數和賦值\n",
    "x = 5\n",
    "y = \"Hello, World!\"\n",
    "print(x)\n",
    "print(y)"
   ]
  },
  {
   "cell_type": "code",
   "execution_count": 10,
   "metadata": {},
   "outputs": [
    {
     "name": "stdout",
     "output_type": "stream",
     "text": [
      "Hello, World!\n"
     ]
    }
   ],
   "source": [
    "# 字符串\n",
    "x = \"Hello, \"\n",
    "y = \"World!\"\n",
    "z = x + y\n",
    "print(z)"
   ]
  },
  {
   "attachments": {},
   "cell_type": "markdown",
   "metadata": {},
   "source": [
    "## 輸入與輸出"
   ]
  },
  {
   "cell_type": "code",
   "execution_count": 1,
   "metadata": {},
   "outputs": [
    {
     "name": "stdout",
     "output_type": "stream",
     "text": [
      "Hello, World!\n",
      "Hello, John\n",
      "Age: 25\n",
      "Name: John Age: 25 Country: USA\n"
     ]
    }
   ],
   "source": [
    "# 輸出字串\n",
    "print(\"Hello, World!\")\n",
    "\n",
    "# 輸出變數\n",
    "name = \"John\"\n",
    "print(\"Hello, \" + name)\n",
    "\n",
    "# 輸出數字\n",
    "age = 25\n",
    "print(\"Age:\", age)\n",
    "\n",
    "# 輸出多個變數\n",
    "country = \"USA\"\n",
    "print(\"Name:\", name, \"Age:\", age, \"Country:\", country)\n"
   ]
  },
  {
   "cell_type": "code",
   "execution_count": 5,
   "metadata": {},
   "outputs": [
    {
     "name": "stdout",
     "output_type": "stream",
     "text": [
      "Hello, howhow\n",
      "You are 34 years old.\n",
      "Your height is 168.0 meters.\n"
     ]
    }
   ],
   "source": [
    "# 獲取用戶名\n",
    "username = input(\"Enter your username: \")\n",
    "print(\"Hello, \" + username)\n",
    "\n",
    "# 獲取年齡並轉換為整數\n",
    "age_str = input(\"Enter your age: \")\n",
    "age = int(age_str)\n",
    "print(\"You are\", age, \"years old.\")\n",
    "\n",
    "# 獲取身高並轉換為浮點數\n",
    "height_str = input(\"Enter your height in meters: \")\n",
    "height = float(height_str)\n",
    "print(\"Your height is\", height, \"meters.\")\n"
   ]
  },
  {
   "attachments": {},
   "cell_type": "markdown",
   "metadata": {},
   "source": [
    "## Python的運算符"
   ]
  },
  {
   "attachments": {},
   "cell_type": "markdown",
   "metadata": {},
   "source": [
    "### 數學運算符"
   ]
  },
  {
   "cell_type": "code",
   "execution_count": 3,
   "metadata": {},
   "outputs": [
    {
     "name": "stdout",
     "output_type": "stream",
     "text": [
      "8\n",
      "2\n",
      "15\n",
      "1.6666666666666667\n",
      "2\n",
      "125\n"
     ]
    }
   ],
   "source": [
    "x = 5\n",
    "y = 3\n",
    "\n",
    "print(x + y)  # 加法，輸出：8\n",
    "print(x - y)  # 減法，輸出：2\n",
    "print(x * y)  # 乘法，輸出：15\n",
    "print(x / y)  # 除法，輸出：1.66667\n",
    "print(x % y)  # 取餘數，輸出：2\n",
    "print(x ** y) # 次方，輸出：125"
   ]
  },
  {
   "attachments": {},
   "cell_type": "markdown",
   "metadata": {},
   "source": [
    "### 邏輯運算符"
   ]
  },
  {
   "cell_type": "code",
   "execution_count": 4,
   "metadata": {},
   "outputs": [
    {
     "name": "stdout",
     "output_type": "stream",
     "text": [
      "False\n",
      "True\n",
      "False\n"
     ]
    }
   ],
   "source": [
    "# 布林值\n",
    "a = True\n",
    "b = False\n",
    "\n",
    "# 且\n",
    "print(a and b)\n",
    "\n",
    "# 或\n",
    "print(a or b)\n",
    "\n",
    "# 非\n",
    "print(not a)\n"
   ]
  },
  {
   "cell_type": "code",
   "execution_count": 5,
   "metadata": {},
   "outputs": [
    {
     "name": "stdout",
     "output_type": "stream",
     "text": [
      "False\n",
      "True\n"
     ]
    }
   ],
   "source": [
    "x = 5\n",
    "y = 10\n",
    "print(x == y)   # False\n",
    "print(x < y)    # True"
   ]
  },
  {
   "cell_type": "code",
   "execution_count": 6,
   "metadata": {},
   "outputs": [
    {
     "name": "stdout",
     "output_type": "stream",
     "text": [
      "True\n",
      "False\n",
      "True\n"
     ]
    }
   ],
   "source": [
    "x = 5\n",
    "y = 10\n",
    "z = 15\n",
    "print(x < y and y < z)   # True\n",
    "print(x > y or y > z)    # False\n",
    "print(not x > y)        # True\n"
   ]
  },
  {
   "cell_type": "code",
   "execution_count": 13,
   "metadata": {},
   "outputs": [
    {
     "name": "stdout",
     "output_type": "stream",
     "text": [
      "a 等於 b 嗎？ False\n",
      "a 不等於 b 嗎？ True\n",
      "a 大於 b 嗎？ True\n",
      "a 小於 b 嗎？ False\n",
      "a 大於等於 b 嗎？ True\n",
      "a 小於等於 b 嗎？ False\n"
     ]
    }
   ],
   "source": [
    "a = 5\n",
    "b = 3\n",
    "\n",
    "# 相等比較\n",
    "is_equal = a == b\n",
    "print(f\"a 等於 b 嗎？ {is_equal}\")\n",
    "\n",
    "# 不相等比較\n",
    "not_equal = a != b\n",
    "print(f\"a 不等於 b 嗎？ {not_equal}\")\n",
    "\n",
    "# 大於比較\n",
    "greater_than = a > b\n",
    "print(f\"a 大於 b 嗎？ {greater_than}\")\n",
    "\n",
    "# 小於比較\n",
    "less_than = a < b\n",
    "print(f\"a 小於 b 嗎？ {less_than}\")\n",
    "\n",
    "# 大於等於比較\n",
    "greater_or_equal = a >= b\n",
    "print(f\"a 大於等於 b 嗎？ {greater_or_equal}\")\n",
    "\n",
    "# 小於等於比較\n",
    "less_or_equal = a <= b\n",
    "print(f\"a 小於等於 b 嗎？ {less_or_equal}\")\n"
   ]
  },
  {
   "attachments": {},
   "cell_type": "markdown",
   "metadata": {},
   "source": [
    "### 運算順序"
   ]
  },
  {
   "cell_type": "code",
   "execution_count": 7,
   "metadata": {},
   "outputs": [
    {
     "data": {
      "text/plain": [
       "10.0"
      ]
     },
     "execution_count": 7,
     "metadata": {},
     "output_type": "execute_result"
    }
   ],
   "source": [
    "result = 5 + 10 * 2 / 4    # 先算乘除，再算加減，答案為10.0\n",
    "result"
   ]
  },
  {
   "cell_type": "code",
   "execution_count": 9,
   "metadata": {},
   "outputs": [
    {
     "data": {
      "text/plain": [
       "7.5"
      ]
     },
     "execution_count": 9,
     "metadata": {},
     "output_type": "execute_result"
    }
   ],
   "source": [
    "result = (5 + 10) * 2 / 4    # 先算括號中的加法，再算乘除，答案為7.5\n",
    "result"
   ]
  },
  {
   "attachments": {},
   "cell_type": "markdown",
   "metadata": {},
   "source": [
    "## Python的資料型態"
   ]
  },
  {
   "attachments": {},
   "cell_type": "markdown",
   "metadata": {},
   "source": [
    "### 使用`type`查看資料型態"
   ]
  },
  {
   "cell_type": "code",
   "execution_count": 3,
   "metadata": {},
   "outputs": [
    {
     "name": "stdout",
     "output_type": "stream",
     "text": [
      "<class 'int'>\n"
     ]
    }
   ],
   "source": [
    "num = 10\n",
    "print(type(num))  # 輸出：<class 'int'>"
   ]
  },
  {
   "cell_type": "code",
   "execution_count": 5,
   "metadata": {},
   "outputs": [
    {
     "name": "stdout",
     "output_type": "stream",
     "text": [
      "<class 'float'>\n"
     ]
    }
   ],
   "source": [
    "num = 5.2\n",
    "print(type(num))  # 輸出：<class 'float'>"
   ]
  },
  {
   "cell_type": "code",
   "execution_count": 4,
   "metadata": {},
   "outputs": [
    {
     "name": "stdout",
     "output_type": "stream",
     "text": [
      "<class 'str'>\n"
     ]
    }
   ],
   "source": [
    "name = \"John\"\n",
    "print(type(name))  # 輸出：<class 'str'>"
   ]
  },
  {
   "attachments": {},
   "cell_type": "markdown",
   "metadata": {},
   "source": [
    "### 數值型態"
   ]
  },
  {
   "cell_type": "code",
   "execution_count": 17,
   "metadata": {},
   "outputs": [
    {
     "name": "stdout",
     "output_type": "stream",
     "text": [
      "30\n",
      "<class 'int'>\n"
     ]
    }
   ],
   "source": [
    "# 整數型態\n",
    "a = 10\n",
    "b = 20\n",
    "c = a + b\n",
    "print(c) # 輸出30\n",
    "print(type(c)) # 輸出<class 'int'>"
   ]
  },
  {
   "cell_type": "code",
   "execution_count": 18,
   "metadata": {},
   "outputs": [
    {
     "name": "stdout",
     "output_type": "stream",
     "text": [
      "4.0\n",
      "<class 'float'>\n"
     ]
    }
   ],
   "source": [
    "# 浮點數型態\n",
    "a = 1.5\n",
    "b = 2.5\n",
    "c = a + b\n",
    "print(c) # 輸出4.0\n",
    "print(type(c)) # 輸出<class 'float'>"
   ]
  },
  {
   "cell_type": "code",
   "execution_count": 23,
   "metadata": {},
   "outputs": [
    {
     "name": "stdout",
     "output_type": "stream",
     "text": [
      "3.3333333333333335\n",
      "<class 'float'>\n"
     ]
    }
   ],
   "source": [
    "# 有些運算會自動轉換型態\n",
    "a = 10\n",
    "b = 3\n",
    "c = a / b\n",
    "print(c) # 輸出3.3333333333333335 <- 你會發現這邊不是完美的3.33...，這是因為浮點數的精度問題\n",
    "print(type(c)) # 輸出<class 'float'>"
   ]
  },
  {
   "cell_type": "code",
   "execution_count": 21,
   "metadata": {},
   "outputs": [
    {
     "name": "stdout",
     "output_type": "stream",
     "text": [
      "10.0\n",
      "<class 'float'>\n"
     ]
    }
   ],
   "source": [
    "# 整數也可以手動轉換成浮點數\n",
    "a = 10\n",
    "b = float(a)\n",
    "print(b) # 輸出10.0\n",
    "print(type(b)) # 輸出<class 'float'>"
   ]
  },
  {
   "cell_type": "code",
   "execution_count": 10,
   "metadata": {},
   "outputs": [
    {
     "name": "stdout",
     "output_type": "stream",
     "text": [
      "3\n",
      "<class 'int'>\n",
      "-4\n",
      "<class 'int'>\n"
     ]
    }
   ],
   "source": [
    "# 浮點數轉換為整數（包含正負數）\n",
    "a = 3.7\n",
    "b = -4.9\n",
    "\n",
    "# 正數的舍去\n",
    "c = int(a)  # 舍去小數部分\n",
    "print(c)  # 輸出3\n",
    "print(type(c))  # 輸出<class 'int'>\n",
    "\n",
    "# 負數的舍去\n",
    "d = int(b)  # 舍去小數部分\n",
    "print(d)  # 輸出-4\n",
    "print(type(d))  # 輸出<class 'int'>\n"
   ]
  },
  {
   "attachments": {},
   "cell_type": "markdown",
   "metadata": {},
   "source": [
    "### 字串"
   ]
  },
  {
   "attachments": {},
   "cell_type": "markdown",
   "metadata": {},
   "source": [
    "#### 建立字串"
   ]
  },
  {
   "cell_type": "code",
   "execution_count": 12,
   "metadata": {},
   "outputs": [
    {
     "name": "stdout",
     "output_type": "stream",
     "text": [
      "Alice\n",
      "<class 'str'>\n",
      "\n",
      "這是一個多行字串的範例。\n",
      "它可以跨越多行，並保留換行符號。\n",
      "\n"
     ]
    }
   ],
   "source": [
    "# 單行字串\n",
    "name = 'Alice'\n",
    "print(name)  # 輸出：Alice\n",
    "print(type(name))  # 輸出：<class 'str'>\n",
    "\n",
    "# 多行字串\n",
    "message = '''\n",
    "這是一個多行字串的範例。\n",
    "它可以跨越多行，並保留換行符號。\n",
    "'''\n",
    "print(message)"
   ]
  },
  {
   "cell_type": "code",
   "execution_count": 13,
   "metadata": {},
   "outputs": [
    {
     "name": "stdout",
     "output_type": "stream",
     "text": [
      "He said, 'Hello!'\n",
      "She said, \"Hi!\"\n"
     ]
    }
   ],
   "source": [
    "# 單引號與雙引號的差異\n",
    "quote_with_single = \"He said, 'Hello!'\"\n",
    "quote_with_double = 'She said, \"Hi!\"'\n",
    "\n",
    "print(quote_with_single)\n",
    "print(quote_with_double)"
   ]
  },
  {
   "attachments": {},
   "cell_type": "markdown",
   "metadata": {},
   "source": [
    "#### 字串的運算"
   ]
  },
  {
   "cell_type": "code",
   "execution_count": 8,
   "metadata": {},
   "outputs": [
    {
     "name": "stdout",
     "output_type": "stream",
     "text": [
      "Hello world\n",
      "HaHaHa\n",
      "5\n"
     ]
    }
   ],
   "source": [
    "# 字串操作\n",
    "\n",
    "# 字串相加\n",
    "print(\"Hello\" + \" \" + \"world\")\n",
    "\n",
    "# 字串複製\n",
    "print(\"Ha\" * 3)\n",
    "\n",
    "# 字串長度\n",
    "print(len(\"Hello\"))\n"
   ]
  },
  {
   "attachments": {},
   "cell_type": "markdown",
   "metadata": {},
   "source": [
    "#### 字串格式化"
   ]
  },
  {
   "cell_type": "code",
   "execution_count": 14,
   "metadata": {},
   "outputs": [
    {
     "name": "stdout",
     "output_type": "stream",
     "text": [
      "熱愛105度的你\n",
      "1.234000四捨五入後是1.23\n",
      "這是一顆蘋果\n"
     ]
    }
   ],
   "source": [
    "# 使用 % 來取代字串中的值\n",
    "print(\"熱愛%d度的你\" % 105) # 取代一個整數\n",
    "print(\"%f四捨五入後是%.2f\" % (1.234, 1.234)) # 有多個地方需要取代的時候需要用()起來\n",
    "print(\"這是一顆%s\" % \"蘋果\")"
   ]
  },
  {
   "cell_type": "code",
   "execution_count": 15,
   "metadata": {},
   "outputs": [
    {
     "name": "stdout",
     "output_type": "stream",
     "text": [
      "熱愛105度的你\n",
      "1.234四捨五入後是1.23\n",
      "這是一顆蘋果\n"
     ]
    }
   ],
   "source": [
    "# 使用 format() 來取代字串中的值\n",
    "print(\"熱愛{temperature}度的你\".format(temperature=105)) # 用{}包一個名稱，format後面給這個名稱的值\n",
    "print(\"{a}四捨五入後是{a:.2f}\".format(a=1.234)) # 可以和%一樣指定格式\n",
    "print(\"這是一顆{}\".format(\"蘋果\")) # {}內沒名稱的話就是按順序對應"
   ]
  },
  {
   "cell_type": "code",
   "execution_count": 16,
   "metadata": {},
   "outputs": [
    {
     "name": "stdout",
     "output_type": "stream",
     "text": [
      "熱愛105度的你\n",
      "1.234四捨五入後是1.23\n",
      "這是一顆蘋果\n"
     ]
    }
   ],
   "source": [
    "# 使用 f-string 來取代字串中的值(3.6以上版本才有)\n",
    "temperature = 105\n",
    "a = 1.234\n",
    "b = \"蘋果\"\n",
    "\n",
    "print(f\"熱愛{temperature}度的你\") # 字串前面加f，中間用{}包變數名稱\n",
    "print(f\"{a}四捨五入後是{a:.2f}\") # 可以和%一樣指定格式\n",
    "print(f\"這是一顆{b}\") # 但不能和format一樣名稱留空"
   ]
  },
  {
   "attachments": {},
   "cell_type": "markdown",
   "metadata": {},
   "source": [
    "#### 字串的尋找與取代"
   ]
  },
  {
   "cell_type": "code",
   "execution_count": 23,
   "metadata": {},
   "outputs": [
    {
     "name": "stdout",
     "output_type": "stream",
     "text": [
      "找到了水果，位置為 4\n",
      "第4個字是:水\n"
     ]
    }
   ],
   "source": [
    "# 使用 find() 來找出字串中的某個字串第一次出現的位置(找不到會回傳-1)\n",
    "sentence = \"我喜歡吃水果, 尤其是蘋果\"\n",
    "index = sentence.find(\"水果\") # 找到字串中的位置\n",
    "print(\"找到了水果，位置為\", index)\n",
    "print(f\"第{index}個字是:{sentence[index]}\")"
   ]
  },
  {
   "cell_type": "code",
   "execution_count": 26,
   "metadata": {},
   "outputs": [
    {
     "name": "stdout",
     "output_type": "stream",
     "text": [
      "找到了蔬菜，位置為 -1\n"
     ]
    }
   ],
   "source": [
    "# 使用 rfind() 來找出字串中的某個字串最後一次出現的位置(找不到會回傳-1)\n",
    "sentence = \"我喜歡吃水果, 尤其是蘋果\"\n",
    "index = sentence.rfind(\"蔬菜\") # 從右邊開始找到字串中的位置\n",
    "print(\"找到了蔬菜，位置為\", index)\n",
    "# print(f\"第{index}個字是:{sentence[index]}\") # <-這行會出錯，因為找不到-1這個的位置"
   ]
  },
  {
   "cell_type": "code",
   "execution_count": 25,
   "metadata": {},
   "outputs": [
    {
     "name": "stdout",
     "output_type": "stream",
     "text": [
      "我喜歡吃蔬菜\n"
     ]
    }
   ],
   "source": [
    "# 用 replace() 來取代字串中的值\n",
    "sentence = \"我喜歡吃水果\"\n",
    "new_sentence = sentence.replace(\"水果\", \"蔬菜\")\n",
    "print(new_sentence) # 我喜歡吃蔬菜"
   ]
  },
  {
   "attachments": {},
   "cell_type": "markdown",
   "metadata": {},
   "source": [
    "#### 字串的分割與合併"
   ]
  },
  {
   "cell_type": "code",
   "execution_count": 28,
   "metadata": {},
   "outputs": [
    {
     "name": "stdout",
     "output_type": "stream",
     "text": [
      "['apple', 'banana', 'orange']\n"
     ]
    }
   ],
   "source": [
    "# 使用 split() 分割字串\n",
    "sentence = \"apple,banana,orange\"\n",
    "fruits = sentence.split(\",\") # 用逗號分割字串，並回傳一個list\n",
    "print(fruits) "
   ]
  },
  {
   "cell_type": "code",
   "execution_count": 29,
   "metadata": {},
   "outputs": [
    {
     "name": "stdout",
     "output_type": "stream",
     "text": [
      "我~喜歡~寫程式\n"
     ]
    }
   ],
   "source": [
    "# 使用 join() 合併字串\n",
    "words = [\"我\", \"喜歡\", \"寫程式\"]\n",
    "sentence = \"~\".join(words) # 用~把list中的字串串起來\n",
    "print(sentence)"
   ]
  },
  {
   "attachments": {},
   "cell_type": "markdown",
   "metadata": {},
   "source": [
    "### 列表"
   ]
  },
  {
   "attachments": {},
   "cell_type": "markdown",
   "metadata": {},
   "source": [
    "#### 建立list"
   ]
  },
  {
   "cell_type": "code",
   "execution_count": 1,
   "metadata": {},
   "outputs": [
    {
     "name": "stdout",
     "output_type": "stream",
     "text": [
      "[]\n"
     ]
    }
   ],
   "source": [
    "# 建立一個空的list\n",
    "my_list = []\n",
    "print(my_list)"
   ]
  },
  {
   "cell_type": "code",
   "execution_count": 28,
   "metadata": {},
   "outputs": [
    {
     "data": {
      "text/plain": [
       "[1, 2, 3, 4, 5]"
      ]
     },
     "execution_count": 28,
     "metadata": {},
     "output_type": "execute_result"
    }
   ],
   "source": [
    "# 創建一個包含多個元素的list\n",
    "numbers = [1, 2, 3, 4, 5]\n",
    "numbers"
   ]
  },
  {
   "attachments": {},
   "cell_type": "markdown",
   "metadata": {},
   "source": [
    "#### list的元素存取"
   ]
  },
  {
   "cell_type": "code",
   "execution_count": 2,
   "metadata": {},
   "outputs": [
    {
     "name": "stdout",
     "output_type": "stream",
     "text": [
      "apple\n",
      "banana\n",
      "orange\n",
      "orange\n"
     ]
    }
   ],
   "source": [
    "# 使用索引值取得列表中的元素\n",
    "fruits = ['apple', 'banana', 'orange']\n",
    "print(fruits[0]) # 輸出apple\n",
    "print(fruits[1]) # 輸出banana\n",
    "print(fruits[2]) # 輸出orange\n",
    "print(fruits[-1]) # 輸出orange"
   ]
  },
  {
   "cell_type": "code",
   "execution_count": 29,
   "metadata": {},
   "outputs": [
    {
     "name": "stdout",
     "output_type": "stream",
     "text": [
      "['apple', 'grape', 'orange']\n"
     ]
    }
   ],
   "source": [
    "# 修改列表中的元素\n",
    "fruits = ['apple', 'banana', 'orange']\n",
    "fruits[1] = 'grape'\n",
    "print(fruits) # 輸出['apple', 'grape', 'orange']\n"
   ]
  },
  {
   "cell_type": "code",
   "execution_count": 30,
   "metadata": {},
   "outputs": [
    {
     "name": "stdout",
     "output_type": "stream",
     "text": [
      "['apple', 'banana', 'orange', 'watermelon']\n"
     ]
    }
   ],
   "source": [
    "# 在列表中添加元素\n",
    "fruits = ['apple', 'banana', 'orange']\n",
    "fruits.append('watermelon')\n",
    "print(fruits) # 輸出['apple', 'banana', 'orange', 'watermelon']\n"
   ]
  },
  {
   "cell_type": "code",
   "execution_count": 31,
   "metadata": {},
   "outputs": [
    {
     "name": "stdout",
     "output_type": "stream",
     "text": [
      "['apple', 'banana', 'orange', 'watermelon']\n"
     ]
    }
   ],
   "source": [
    "# 在列表中刪除元素\n",
    "fruits = ['apple', 'banana', 'orange']\n",
    "fruits.append('watermelon')\n",
    "print(fruits) # 輸出['apple', 'banana', 'orange', 'watermelon']\n"
   ]
  },
  {
   "attachments": {},
   "cell_type": "markdown",
   "metadata": {},
   "source": [
    "#### 切片操作"
   ]
  },
  {
   "cell_type": "code",
   "execution_count": 4,
   "metadata": {},
   "outputs": [
    {
     "name": "stdout",
     "output_type": "stream",
     "text": [
      "[2, 3, 4]\n"
     ]
    }
   ],
   "source": [
    "# 切片操作，獲取部分list\n",
    "my_list = [1, 2, 3, 4, 5]\n",
    "sliced_list = my_list[1:4]  # 獲取索引1到3的元素(含頭不含尾)\n",
    "print(sliced_list)"
   ]
  },
  {
   "cell_type": "code",
   "execution_count": 7,
   "metadata": {},
   "outputs": [
    {
     "name": "stdout",
     "output_type": "stream",
     "text": [
      "[1, 3, 5]\n"
     ]
    }
   ],
   "source": [
    "# 切片操作也可以指定步長\n",
    "my_list = [1, 2, 3, 4, 5]\n",
    "sliced_list = my_list[:5:2]  # 獲取索引0(此處被省略)到4的元素，步長為2\n",
    "print(sliced_list)"
   ]
  },
  {
   "cell_type": "code",
   "execution_count": 8,
   "metadata": {},
   "outputs": [
    {
     "name": "stdout",
     "output_type": "stream",
     "text": [
      "[5, 4, 3, 2, 1]\n"
     ]
    }
   ],
   "source": [
    "# 更甚至可以反向取得list\n",
    "my_list = [1, 2, 3, 4, 5]\n",
    "sliced_list = my_list[::-1]  # 步長為-1，反向取得list\n",
    "print(sliced_list)"
   ]
  },
  {
   "attachments": {},
   "cell_type": "markdown",
   "metadata": {},
   "source": [
    "### (進階)字典\n"
   ]
  },
  {
   "cell_type": "code",
   "execution_count": 10,
   "metadata": {},
   "outputs": [
    {
     "name": "stdout",
     "output_type": "stream",
     "text": [
      "1\n"
     ]
    }
   ],
   "source": [
    "# 建立字典\n",
    "dct = {'a': 1, 'b': 2, 'c': 3}\n",
    "\n",
    "# 使用key作為索引\n",
    "print(dct['a'])  # 輸出: 1\n",
    "\n",
    "# 常見操作\n",
    "dct['d'] = 4 # 添加一個新的元素\n",
    "del dct['b'] # 刪除key為b的這個元素\n"
   ]
  },
  {
   "cell_type": "code",
   "execution_count": 24,
   "metadata": {},
   "outputs": [
    {
     "name": "stdout",
     "output_type": "stream",
     "text": [
      "John\n",
      "25\n",
      "Male\n"
     ]
    }
   ],
   "source": [
    "person = {'name': 'John', 'age': 25, 'gender': 'Male'}\n",
    "print(person['name']) # 輸出John\n",
    "print(person['age']) # 輸出25\n",
    "print(person['gender']) # 輸出Male\n"
   ]
  },
  {
   "attachments": {},
   "cell_type": "markdown",
   "metadata": {},
   "source": [
    "### (進階)集合"
   ]
  },
  {
   "cell_type": "code",
   "execution_count": 11,
   "metadata": {},
   "outputs": [
    {
     "name": "stdout",
     "output_type": "stream",
     "text": [
      "True\n"
     ]
    }
   ],
   "source": [
    "# 建立集合\n",
    "st = {1, 2, 3, 4, 5}\n",
    "\n",
    "# 檢查元素是否存在\n",
    "print(3 in st)  # 輸出: True\n",
    "\n",
    "# 常見操作\n",
    "st.add(6)\n",
    "st.remove(3)\n"
   ]
  },
  {
   "cell_type": "code",
   "execution_count": 12,
   "metadata": {},
   "outputs": [
    {
     "name": "stdout",
     "output_type": "stream",
     "text": [
      "{1, 2, 3, 4, 5}\n"
     ]
    }
   ],
   "source": [
    "numbers = {1, 2, 3, 4, 5, 4, 3, 2} # 重複的元素會被自動移除\n",
    "print(numbers) # 輸出{1, 2, 3, 4, 5}\n"
   ]
  },
  {
   "attachments": {},
   "cell_type": "markdown",
   "metadata": {},
   "source": [
    "### (進階)元組"
   ]
  },
  {
   "cell_type": "code",
   "execution_count": 13,
   "metadata": {},
   "outputs": [
    {
     "name": "stdout",
     "output_type": "stream",
     "text": [
      "1\n"
     ]
    }
   ],
   "source": [
    "# 建立元組\n",
    "tup = (1, 2, 3, 'a', 'b', 'c')\n",
    "\n",
    "# 使用索引(類似list)\n",
    "print(tup[0])  # 輸出: 1\n",
    "\n",
    "# 無法改變長度，所以直接新增一個\n",
    "tup2 = tup + (4, 5, 6)"
   ]
  },
  {
   "cell_type": "code",
   "execution_count": 26,
   "metadata": {},
   "outputs": [
    {
     "name": "stdout",
     "output_type": "stream",
     "text": [
      "(25, 1.75, 'John')\n"
     ]
    }
   ],
   "source": [
    "# 包含三個元素的tuple，元素類型分別為整數、浮點數和字串：\n",
    "person = (25, 1.75, 'John')\n",
    "print(person)"
   ]
  },
  {
   "cell_type": "code",
   "execution_count": 27,
   "metadata": {},
   "outputs": [
    {
     "name": "stdout",
     "output_type": "stream",
     "text": [
      "('Alice', (30, 'Manager'))\n"
     ]
    }
   ],
   "source": [
    "# 包含兩個元素的tuple，元素類型為字串和另一個tuple\n",
    "employee = ('Alice', (30, 'Manager'))\n",
    "print(employee)\n"
   ]
  }
 ],
 "metadata": {
  "kernelspec": {
   "display_name": "base",
   "language": "python",
   "name": "python3"
  },
  "language_info": {
   "codemirror_mode": {
    "name": "ipython",
    "version": 3
   },
   "file_extension": ".py",
   "mimetype": "text/x-python",
   "name": "python",
   "nbconvert_exporter": "python",
   "pygments_lexer": "ipython3",
   "version": "3.9.0"
  },
  "orig_nbformat": 4
 },
 "nbformat": 4,
 "nbformat_minor": 2
}
